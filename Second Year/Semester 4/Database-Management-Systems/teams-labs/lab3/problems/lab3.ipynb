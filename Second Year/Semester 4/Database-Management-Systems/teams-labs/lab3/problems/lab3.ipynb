{
    "metadata": {
        "kernelspec": {
            "name": "SQL",
            "display_name": "SQL",
            "language": "sql"
        },
        "language_info": {
            "name": "sql",
            "version": ""
        }
    },
    "nbformat_minor": 2,
    "nbformat": 4,
    "cells": [
        {
            "cell_type": "code",
            "source": [
                "select * from Customer\n",
                "\n",
                "select * from Restaurant\n",
                "\n",
                "select * from RestaurantReview\n",
                "\n",
                ""
            ],
            "metadata": {
                "azdata_cell_guid": "4c87b36f-fbae-4737-b786-b79e0ebbe145",
                "language": "sql",
                "tags": []
            },
            "outputs": [
                {
                    "output_type": "display_data",
                    "data": {
                        "text/html": "(3 rows affected)"
                    },
                    "metadata": {}
                },
                {
                    "output_type": "display_data",
                    "data": {
                        "text/html": "(2 rows affected)"
                    },
                    "metadata": {}
                },
                {
                    "output_type": "display_data",
                    "data": {
                        "text/html": "(1 row affected)"
                    },
                    "metadata": {}
                },
                {
                    "output_type": "display_data",
                    "data": {
                        "text/html": "Total execution time: 00:00:00.005"
                    },
                    "metadata": {}
                },
                {
                    "output_type": "execute_result",
                    "metadata": {},
                    "execution_count": 54,
                    "data": {
                        "application/vnd.dataresource+json": {
                            "schema": {
                                "fields": [
                                    {
                                        "name": "customer_id"
                                    },
                                    {
                                        "name": "customer_name"
                                    },
                                    {
                                        "name": "customer_address"
                                    },
                                    {
                                        "name": "phone_number"
                                    },
                                    {
                                        "name": "email_address"
                                    }
                                ]
                            },
                            "data": [
                                {
                                    "customer_id": "10",
                                    "customer_name": "razvan",
                                    "customer_address": "dunarii1",
                                    "phone_number": "0712121212",
                                    "email_address": "cosmin@example.com"
                                },
                                {
                                    "customer_id": "11",
                                    "customer_name": "customer1",
                                    "customer_address": "test1",
                                    "phone_number": "0000000000",
                                    "email_address": "test1@gmail.ro"
                                },
                                {
                                    "customer_id": "12",
                                    "customer_name": "customer1",
                                    "customer_address": "test1",
                                    "phone_number": "0000000000",
                                    "email_address": "test1@gmail.ro"
                                }
                            ]
                        },
                        "text/html": [
                            "<table>",
                            "<tr><th>customer_id</th><th>customer_name</th><th>customer_address</th><th>phone_number</th><th>email_address</th></tr>",
                            "<tr><td>10</td><td>razvan</td><td>dunarii1</td><td>0712121212</td><td>cosmin@example.com</td></tr>",
                            "<tr><td>11</td><td>customer1</td><td>test1</td><td>0000000000</td><td>test1@gmail.ro</td></tr>",
                            "<tr><td>12</td><td>customer1</td><td>test1</td><td>0000000000</td><td>test1@gmail.ro</td></tr>",
                            "</table>"
                        ]
                    }
                },
                {
                    "output_type": "execute_result",
                    "metadata": {},
                    "execution_count": 54,
                    "data": {
                        "application/vnd.dataresource+json": {
                            "schema": {
                                "fields": [
                                    {
                                        "name": "restaurant_id"
                                    },
                                    {
                                        "name": "restaurant_name"
                                    },
                                    {
                                        "name": "restaurant_description"
                                    },
                                    {
                                        "name": "restaurant_phone_number"
                                    },
                                    {
                                        "name": "restaurant_address"
                                    }
                                ]
                            },
                            "data": [
                                {
                                    "restaurant_id": "4",
                                    "restaurant_name": "restaurant2",
                                    "restaurant_description": "A fine dining restaurant with a variety of gourmet dishes.",
                                    "restaurant_phone_number": "0700000000",
                                    "restaurant_address": "Cluj-Napoca"
                                },
                                {
                                    "restaurant_id": "5",
                                    "restaurant_name": "Grande",
                                    "restaurant_description": "A fine dining restaurant with a variety of gourmet dishes.",
                                    "restaurant_phone_number": "0700000000",
                                    "restaurant_address": "Cluj-Napoca"
                                }
                            ]
                        },
                        "text/html": [
                            "<table>",
                            "<tr><th>restaurant_id</th><th>restaurant_name</th><th>restaurant_description</th><th>restaurant_phone_number</th><th>restaurant_address</th></tr>",
                            "<tr><td>4</td><td>restaurant2</td><td>A fine dining restaurant with a variety of gourmet dishes.</td><td>0700000000</td><td>Cluj-Napoca</td></tr>",
                            "<tr><td>5</td><td>Grande</td><td>A fine dining restaurant with a variety of gourmet dishes.</td><td>0700000000</td><td>Cluj-Napoca</td></tr>",
                            "</table>"
                        ]
                    }
                },
                {
                    "output_type": "execute_result",
                    "metadata": {},
                    "execution_count": 54,
                    "data": {
                        "application/vnd.dataresource+json": {
                            "schema": {
                                "fields": [
                                    {
                                        "name": "restaurant_review_id"
                                    },
                                    {
                                        "name": "customer_id"
                                    },
                                    {
                                        "name": "restaurant_id"
                                    },
                                    {
                                        "name": "rating"
                                    },
                                    {
                                        "name": "comment"
                                    }
                                ]
                            },
                            "data": [
                                {
                                    "restaurant_review_id": "3",
                                    "customer_id": "10",
                                    "restaurant_id": "4",
                                    "rating": "5.0",
                                    "comment": "NULL"
                                }
                            ]
                        },
                        "text/html": [
                            "<table>",
                            "<tr><th>restaurant_review_id</th><th>customer_id</th><th>restaurant_id</th><th>rating</th><th>comment</th></tr>",
                            "<tr><td>3</td><td>10</td><td>4</td><td>5.0</td><td>NULL</td></tr>",
                            "</table>"
                        ]
                    }
                }
            ],
            "execution_count": 54
        },
        {
            "cell_type": "code",
            "source": [
                "/*CREATE TABLE RestaurantReview(\n",
                "    restaurant_review_id INT IDENTITY(1, 1) PRIMARY KEY,\n",
                "    customer_id INT FOREIGN KEY REFERENCES Customer(customer_id),\n",
                "    restaurant_id INT FOREIGN KEY REFERENCES Restaurant(restaurant_id),\n",
                "    rating DECIMAL(2,1) check (rating >= 0 and rating <= 5) DEFAULT 5,\n",
                "    comment VARCHAR(500) NOT NULL,\n",
                ");\n",
                "\n",
                "CREATE TABLE Restaurant(\n",
                "    restaurant_id INT IDENTITY(1,1) PRIMARY KEY,\n",
                "    restaurant_name VARCHAR(50) NOT NUll,\n",
                "    restaurant_description VARCHAR(500),\n",
                "    restaurant_phone_number VARCHAR(20) NOT NULL,\n",
                "    restaurant_address VARCHAR(200) NOT NULL\n",
                ");\n",
                "\n",
                "CREATE TABLE Customer(\n",
                "    customer_id INT IDENTITY(1, 1) PRIMARY KEY,\n",
                "    customer_name VARCHAR(50) NOT NULL,\n",
                "    customer_address VARCHAR(200) NOT NULL,\n",
                "    phone_number VARCHAR(20) NOT NULL,\n",
                "    email_address VARCHAR(50) NOT NULL\n",
                ")*/\n",
                "\n",
                ""
            ],
            "metadata": {
                "language": "sql",
                "azdata_cell_guid": "2bb8a8c8-3a67-49fc-a96d-d9ad15d65e76"
            },
            "outputs": [
                {
                    "output_type": "error",
                    "ename": "",
                    "evalue": "Msg 3701, Level 11, State 5, Line 28\nCannot drop the table 'RestaurantReview', because it does not exist or you do not have permission.",
                    "traceback": []
                },
                {
                    "output_type": "display_data",
                    "data": {
                        "text/html": "Total execution time: 00:00:00.002"
                    },
                    "metadata": {}
                }
            ],
            "execution_count": 21
        },
        {
            "cell_type": "code",
            "source": [
                "CREATE OR ALTER FUNCTION ValidateCustomer(\n",
                "    @customer_name VARCHAR(50),\n",
                "    @customer_address VARCHAR(200),\n",
                "    @phone_number VARCHAR(20),\n",
                "    @email_address VARCHAR(50)\n",
                ")\n",
                "RETURNS BIT\n",
                "AS\n",
                "BEGIN\n",
                "    DECLARE @IsValid BIT\n",
                "    SET @IsValid = 1\n",
                "\n",
                "    IF @customer_name IS NULL OR LEN(@customer_name) = 0 OR LEN(@customer_name) > 50\n",
                "    BEGIN\n",
                "        SET @IsValid = 0\n",
                "    END\n",
                "\n",
                "    IF @customer_address IS NULL OR LEN(@customer_address) = 0 OR LEN(@customer_address) > 200\n",
                "    BEGIN\n",
                "        SET @IsValid = 0\n",
                "    END\n",
                "\n",
                "    IF @phone_number IS NULL OR LEN(@phone_number) = 0 OR LEN(@phone_number) > 20\n",
                "    BEGIN\n",
                "        SET @IsValid = 0\n",
                "    END\n",
                "\n",
                "    IF @email_address IS NULL OR LEN(@email_address) = 0 OR LEN(@email_address) > 50 OR\n",
                "       @email_address NOT LIKE '%_@__%.__%'\n",
                "    BEGIN\n",
                "        SET @IsValid = 0\n",
                "    END\n",
                "\n",
                "    RETURN @IsValid\n",
                "END\n",
                "GO\n",
                "CREATE OR ALTER FUNCTION ValidateRestaurant(\n",
                "    @restaurant_name VARCHAR(50),\n",
                "    @restaurant_description VARCHAR(500),\n",
                "    @restaurant_phone_number VARCHAR(20),\n",
                "    @restaurant_address VARCHAR(200)\n",
                ")\n",
                "RETURNS BIT\n",
                "AS\n",
                "BEGIN\n",
                "    DECLARE @IsValid BIT\n",
                "    SET @IsValid = 1\n",
                "\n",
                "    IF @restaurant_name IS NULL OR LEN(@restaurant_name) = 0 OR LEN(@restaurant_name) > 50\n",
                "    BEGIN\n",
                "        SET @IsValid = 0\n",
                "    END\n",
                "\n",
                "    IF @restaurant_description IS NOT NULL AND LEN(@restaurant_description) > 500\n",
                "    BEGIN\n",
                "        SET @IsValid = 0\n",
                "    END\n",
                "\n",
                "    IF @restaurant_phone_number IS NULL OR LEN(@restaurant_phone_number) = 0 OR LEN(@restaurant_phone_number) > 20\n",
                "    BEGIN\n",
                "        SET @IsValid = 0\n",
                "    END\n",
                "\n",
                "    IF @restaurant_address IS NULL OR LEN(@restaurant_address) = 0 OR LEN(@restaurant_address) > 200\n",
                "    BEGIN\n",
                "        SET @IsValid = 0\n",
                "    END\n",
                "\n",
                "    RETURN @IsValid\n",
                "END\n",
                "\n",
                "GO\n",
                "CREATE OR ALTER FUNCTION ValidateRestaurantReview(\n",
                "    @rating DECIMAL(2,1)\n",
                ")\n",
                "RETURNS BIT\n",
                "AS\n",
                "BEGIN\n",
                "    DECLARE @IsValid BIT\n",
                "    SET @IsValid = 1\n",
                "\n",
                "    IF @rating IS NOT NULL AND  (@rating < 0 OR @rating > 5)\n",
                "    BEGIN\n",
                "        SET @IsValid = 0\n",
                "    END\n",
                "\n",
                "    RETURN @IsValid\n",
                "END\n",
                ""
            ],
            "metadata": {
                "azdata_cell_guid": "f877ad79-3681-47b5-8ada-18e49ac0599d",
                "language": "sql",
                "tags": []
            },
            "outputs": [
                {
                    "output_type": "display_data",
                    "data": {
                        "text/html": "Commands completed successfully."
                    },
                    "metadata": {}
                },
                {
                    "output_type": "display_data",
                    "data": {
                        "text/html": "Commands completed successfully."
                    },
                    "metadata": {}
                },
                {
                    "output_type": "display_data",
                    "data": {
                        "text/html": "Commands completed successfully."
                    },
                    "metadata": {}
                },
                {
                    "output_type": "display_data",
                    "data": {
                        "text/html": "Total execution time: 00:00:00.018"
                    },
                    "metadata": {}
                }
            ],
            "execution_count": 38
        },
        {
            "cell_type": "code",
            "source": [
                "CREATE OR ALTER PROCEDURE AddCustomerRestaurantReview\n",
                "    @customer_name VARCHAR(50),\n",
                "    @customer_address VARCHAR(200),\n",
                "    @phone_number VARCHAR(20),\n",
                "    @email_address VARCHAR(50),\n",
                "    @restaurant_name VARCHAR(50),\n",
                "    @restaurant_description VARCHAR(500),\n",
                "    @restaurant_phone_number VARCHAR(20),\n",
                "    @restaurant_address VARCHAR(200)\n",
                "AS\n",
                "BEGIN\n",
                "\n",
                "    BEGIN TRANSACTION\n",
                "\n",
                "    BEGIN TRY\n",
                "        IF dbo.ValidateCustomer(@customer_name, @customer_address, @phone_number, @email_address) = 0\n",
                "        BEGIN\n",
                "            RAISERROR('Invalid customer data', 14 , 1)\n",
                "        END\n",
                "\n",
                "        IF dbo.ValidateRestaurant(@restaurant_name, @restaurant_description, @restaurant_phone_number, @restaurant_address) = 0\n",
                "        BEGIN\n",
                "            RAISERROR('Invalid restaurant data', 14, 1)\n",
                "        END\n",
                "\n",
                "\n",
                "        INSERT INTO Customer (customer_name, customer_address, phone_number, email_address)\n",
                "        VALUES (@customer_name, @customer_address, @phone_number, @email_address);\n",
                "\n",
                "        DECLARE @customer_id INT\n",
                "        SET @customer_id = SCOPE_IDENTITY();\n",
                "\n",
                "        INSERT INTO Restaurant (restaurant_name, restaurant_description, restaurant_phone_number, restaurant_address)\n",
                "        VALUES (@restaurant_name, @restaurant_description, @restaurant_phone_number, @restaurant_address);\n",
                "\n",
                "        DECLARE @restaurant_id INT\n",
                "        SET @restaurant_id = SCOPE_IDENTITY();\n",
                "\n",
                "        INSERT INTO RestaurantReview (customer_id, restaurant_id)\n",
                "        VALUES (@customer_id, @restaurant_id);\n",
                "\n",
                "        COMMIT TRANSACTION;\n",
                "        SELECT 'Transaction committed'\n",
                "    END TRY\n",
                "    BEGIN CATCH\n",
                "        ROLLBACK TRANSACTION;\n",
                "        SELECT 'Transaction rollbacked'\n",
                "    END CATCH\n",
                "END;\n",
                ""
            ],
            "metadata": {
                "azdata_cell_guid": "2c7c44fa-aec4-470e-b4ea-0bd89dfabd10",
                "language": "sql"
            },
            "outputs": [
                {
                    "output_type": "display_data",
                    "data": {
                        "text/html": "Commands completed successfully."
                    },
                    "metadata": {}
                },
                {
                    "output_type": "display_data",
                    "data": {
                        "text/html": "Total execution time: 00:00:00.009"
                    },
                    "metadata": {}
                }
            ],
            "execution_count": 43
        },
        {
            "cell_type": "code",
            "source": [
                ""
            ],
            "metadata": {
                "azdata_cell_guid": "b4b4d520-508a-43ae-88c4-28d42d8acdcc",
                "language": "sql"
            },
            "outputs": [],
            "execution_count": null
        },
        {
            "cell_type": "code",
            "source": [
                "select * from customer\n",
                "select * from Restaurant\n",
                "select * from RestaurantReview\n",
                "\n",
                "EXEC AddCustomerRestaurantReview\n",
                "    @customer_name = 'Cosmin',\n",
                "    @customer_address = 'Cluj-Napoca',\n",
                "    @phone_number = '0712121212',\n",
                "    @email_address = 'cosmin@example.com',\n",
                "    @restaurant_name = 'Grande',\n",
                "    @restaurant_description = 'A fine dining restaurant with a variety of gourmet dishes.',\n",
                "    @restaurant_phone_number = '0700000000',\n",
                "    @restaurant_address = 'Cluj-Napoca'\n",
                "\n",
                "select * from customer\n",
                "select * from Restaurant\n",
                "select * from RestaurantReview\n",
                ""
            ],
            "metadata": {
                "azdata_cell_guid": "10659abd-4bc6-4f42-98e0-abc8f956ea7d",
                "language": "sql"
            },
            "outputs": [
                {
                    "output_type": "display_data",
                    "data": {
                        "text/html": "(0 rows affected)"
                    },
                    "metadata": {}
                },
                {
                    "output_type": "display_data",
                    "data": {
                        "text/html": "(0 rows affected)"
                    },
                    "metadata": {}
                },
                {
                    "output_type": "display_data",
                    "data": {
                        "text/html": "(0 rows affected)"
                    },
                    "metadata": {}
                },
                {
                    "output_type": "display_data",
                    "data": {
                        "text/html": "(1 row affected)"
                    },
                    "metadata": {}
                },
                {
                    "output_type": "display_data",
                    "data": {
                        "text/html": "(1 row affected)"
                    },
                    "metadata": {}
                },
                {
                    "output_type": "display_data",
                    "data": {
                        "text/html": "(1 row affected)"
                    },
                    "metadata": {}
                },
                {
                    "output_type": "display_data",
                    "data": {
                        "text/html": "(1 row affected)"
                    },
                    "metadata": {}
                },
                {
                    "output_type": "display_data",
                    "data": {
                        "text/html": "(1 row affected)"
                    },
                    "metadata": {}
                },
                {
                    "output_type": "display_data",
                    "data": {
                        "text/html": "(1 row affected)"
                    },
                    "metadata": {}
                },
                {
                    "output_type": "display_data",
                    "data": {
                        "text/html": "(1 row affected)"
                    },
                    "metadata": {}
                },
                {
                    "output_type": "display_data",
                    "data": {
                        "text/html": "Total execution time: 00:00:00.030"
                    },
                    "metadata": {}
                },
                {
                    "output_type": "execute_result",
                    "execution_count": 7,
                    "data": {
                        "application/vnd.dataresource+json": {
                            "schema": {
                                "fields": [
                                    {
                                        "name": "customer_id"
                                    },
                                    {
                                        "name": "customer_name"
                                    },
                                    {
                                        "name": "customer_address"
                                    },
                                    {
                                        "name": "phone_number"
                                    },
                                    {
                                        "name": "email_address"
                                    }
                                ]
                            },
                            "data": []
                        },
                        "text/html": "<table><tr><th>customer_id</th><th>customer_name</th><th>customer_address</th><th>phone_number</th><th>email_address</th></tr></table>"
                    },
                    "metadata": {}
                },
                {
                    "output_type": "execute_result",
                    "execution_count": 7,
                    "data": {
                        "application/vnd.dataresource+json": {
                            "schema": {
                                "fields": [
                                    {
                                        "name": "restaurant_id"
                                    },
                                    {
                                        "name": "restaurant_name"
                                    },
                                    {
                                        "name": "restaurant_description"
                                    },
                                    {
                                        "name": "restaurant_phone_number"
                                    },
                                    {
                                        "name": "restaurant_address"
                                    }
                                ]
                            },
                            "data": []
                        },
                        "text/html": "<table><tr><th>restaurant_id</th><th>restaurant_name</th><th>restaurant_description</th><th>restaurant_phone_number</th><th>restaurant_address</th></tr></table>"
                    },
                    "metadata": {}
                },
                {
                    "output_type": "execute_result",
                    "execution_count": 7,
                    "data": {
                        "application/vnd.dataresource+json": {
                            "schema": {
                                "fields": [
                                    {
                                        "name": "restaurant_review_id"
                                    },
                                    {
                                        "name": "customer_id"
                                    },
                                    {
                                        "name": "restaurant_id"
                                    },
                                    {
                                        "name": "rating"
                                    },
                                    {
                                        "name": "comment"
                                    }
                                ]
                            },
                            "data": []
                        },
                        "text/html": "<table><tr><th>restaurant_review_id</th><th>customer_id</th><th>restaurant_id</th><th>rating</th><th>comment</th></tr></table>"
                    },
                    "metadata": {}
                },
                {
                    "output_type": "execute_result",
                    "execution_count": 7,
                    "data": {
                        "application/vnd.dataresource+json": {
                            "schema": {
                                "fields": [
                                    {
                                        "name": "(No column name)"
                                    }
                                ]
                            },
                            "data": [
                                {
                                    "(No column name)": "Transaction committed"
                                }
                            ]
                        },
                        "text/html": "<table><tr><th>(No column name)</th></tr><tr><td>Transaction committed</td></tr></table>"
                    },
                    "metadata": {}
                },
                {
                    "output_type": "execute_result",
                    "execution_count": 7,
                    "data": {
                        "application/vnd.dataresource+json": {
                            "schema": {
                                "fields": [
                                    {
                                        "name": "customer_id"
                                    },
                                    {
                                        "name": "customer_name"
                                    },
                                    {
                                        "name": "customer_address"
                                    },
                                    {
                                        "name": "phone_number"
                                    },
                                    {
                                        "name": "email_address"
                                    }
                                ]
                            },
                            "data": [
                                {
                                    "customer_id": "10",
                                    "customer_name": "Cosmin",
                                    "customer_address": "Cluj-Napoca",
                                    "phone_number": "0712121212",
                                    "email_address": "cosmin@example.com"
                                }
                            ]
                        },
                        "text/html": "<table><tr><th>customer_id</th><th>customer_name</th><th>customer_address</th><th>phone_number</th><th>email_address</th></tr><tr><td>10</td><td>Cosmin</td><td>Cluj-Napoca</td><td>0712121212</td><td>cosmin@example.com</td></tr></table>"
                    },
                    "metadata": {}
                },
                {
                    "output_type": "execute_result",
                    "execution_count": 7,
                    "data": {
                        "application/vnd.dataresource+json": {
                            "schema": {
                                "fields": [
                                    {
                                        "name": "restaurant_id"
                                    },
                                    {
                                        "name": "restaurant_name"
                                    },
                                    {
                                        "name": "restaurant_description"
                                    },
                                    {
                                        "name": "restaurant_phone_number"
                                    },
                                    {
                                        "name": "restaurant_address"
                                    }
                                ]
                            },
                            "data": [
                                {
                                    "restaurant_id": "4",
                                    "restaurant_name": "Grande",
                                    "restaurant_description": "A fine dining restaurant with a variety of gourmet dishes.",
                                    "restaurant_phone_number": "0700000000",
                                    "restaurant_address": "Cluj-Napoca"
                                }
                            ]
                        },
                        "text/html": "<table><tr><th>restaurant_id</th><th>restaurant_name</th><th>restaurant_description</th><th>restaurant_phone_number</th><th>restaurant_address</th></tr><tr><td>4</td><td>Grande</td><td>A fine dining restaurant with a variety of gourmet dishes.</td><td>0700000000</td><td>Cluj-Napoca</td></tr></table>"
                    },
                    "metadata": {}
                },
                {
                    "output_type": "execute_result",
                    "execution_count": 7,
                    "data": {
                        "application/vnd.dataresource+json": {
                            "schema": {
                                "fields": [
                                    {
                                        "name": "restaurant_review_id"
                                    },
                                    {
                                        "name": "customer_id"
                                    },
                                    {
                                        "name": "restaurant_id"
                                    },
                                    {
                                        "name": "rating"
                                    },
                                    {
                                        "name": "comment"
                                    }
                                ]
                            },
                            "data": [
                                {
                                    "restaurant_review_id": "3",
                                    "customer_id": "10",
                                    "restaurant_id": "4",
                                    "rating": "5.0",
                                    "comment": "NULL"
                                }
                            ]
                        },
                        "text/html": "<table><tr><th>restaurant_review_id</th><th>customer_id</th><th>restaurant_id</th><th>rating</th><th>comment</th></tr><tr><td>3</td><td>10</td><td>4</td><td>5.0</td><td>NULL</td></tr></table>"
                    },
                    "metadata": {}
                }
            ],
            "execution_count": 7
        },
        {
            "cell_type": "code",
            "source": [
                "select * from customer\n",
                "select * from Restaurant\n",
                "select * from RestaurantReview\n",
                "\n",
                "EXEC AddCustomerRestaurantReview\n",
                "    @customer_name = 'Cosmin',\n",
                "    @customer_address = 'Cluj-Napoca',\n",
                "    @phone_number = '0712121212',\n",
                "    @email_address = '',\n",
                "    @restaurant_name = 'Grande',\n",
                "    @restaurant_description = 'A fine dining restaurant with a variety of gourmet dishes.',\n",
                "    @restaurant_phone_number = '0700000000',\n",
                "    @restaurant_address = 'Cluj-Napoca'\n",
                "\n",
                "select * from customer\n",
                "select * from Restaurant\n",
                "select * from RestaurantReview"
            ],
            "metadata": {
                "language": "sql",
                "azdata_cell_guid": "92a444fb-e2b2-4015-b3fb-b8157ec7b637"
            },
            "outputs": [
                {
                    "output_type": "display_data",
                    "data": {
                        "text/html": "(1 row affected)"
                    },
                    "metadata": {}
                },
                {
                    "output_type": "display_data",
                    "data": {
                        "text/html": "(1 row affected)"
                    },
                    "metadata": {}
                },
                {
                    "output_type": "display_data",
                    "data": {
                        "text/html": "(1 row affected)"
                    },
                    "metadata": {}
                },
                {
                    "output_type": "display_data",
                    "data": {
                        "text/html": "(1 row affected)"
                    },
                    "metadata": {}
                },
                {
                    "output_type": "display_data",
                    "data": {
                        "text/html": "(1 row affected)"
                    },
                    "metadata": {}
                },
                {
                    "output_type": "display_data",
                    "data": {
                        "text/html": "(1 row affected)"
                    },
                    "metadata": {}
                },
                {
                    "output_type": "display_data",
                    "data": {
                        "text/html": "(1 row affected)"
                    },
                    "metadata": {}
                },
                {
                    "output_type": "display_data",
                    "data": {
                        "text/html": "Total execution time: 00:00:00.015"
                    },
                    "metadata": {}
                },
                {
                    "output_type": "execute_result",
                    "execution_count": 8,
                    "data": {
                        "application/vnd.dataresource+json": {
                            "schema": {
                                "fields": [
                                    {
                                        "name": "customer_id"
                                    },
                                    {
                                        "name": "customer_name"
                                    },
                                    {
                                        "name": "customer_address"
                                    },
                                    {
                                        "name": "phone_number"
                                    },
                                    {
                                        "name": "email_address"
                                    }
                                ]
                            },
                            "data": [
                                {
                                    "customer_id": "10",
                                    "customer_name": "Cosmin",
                                    "customer_address": "Cluj-Napoca",
                                    "phone_number": "0712121212",
                                    "email_address": "cosmin@example.com"
                                }
                            ]
                        },
                        "text/html": "<table><tr><th>customer_id</th><th>customer_name</th><th>customer_address</th><th>phone_number</th><th>email_address</th></tr><tr><td>10</td><td>Cosmin</td><td>Cluj-Napoca</td><td>0712121212</td><td>cosmin@example.com</td></tr></table>"
                    },
                    "metadata": {}
                },
                {
                    "output_type": "execute_result",
                    "execution_count": 8,
                    "data": {
                        "application/vnd.dataresource+json": {
                            "schema": {
                                "fields": [
                                    {
                                        "name": "restaurant_id"
                                    },
                                    {
                                        "name": "restaurant_name"
                                    },
                                    {
                                        "name": "restaurant_description"
                                    },
                                    {
                                        "name": "restaurant_phone_number"
                                    },
                                    {
                                        "name": "restaurant_address"
                                    }
                                ]
                            },
                            "data": [
                                {
                                    "restaurant_id": "4",
                                    "restaurant_name": "Grande",
                                    "restaurant_description": "A fine dining restaurant with a variety of gourmet dishes.",
                                    "restaurant_phone_number": "0700000000",
                                    "restaurant_address": "Cluj-Napoca"
                                }
                            ]
                        },
                        "text/html": "<table><tr><th>restaurant_id</th><th>restaurant_name</th><th>restaurant_description</th><th>restaurant_phone_number</th><th>restaurant_address</th></tr><tr><td>4</td><td>Grande</td><td>A fine dining restaurant with a variety of gourmet dishes.</td><td>0700000000</td><td>Cluj-Napoca</td></tr></table>"
                    },
                    "metadata": {}
                },
                {
                    "output_type": "execute_result",
                    "execution_count": 8,
                    "data": {
                        "application/vnd.dataresource+json": {
                            "schema": {
                                "fields": [
                                    {
                                        "name": "restaurant_review_id"
                                    },
                                    {
                                        "name": "customer_id"
                                    },
                                    {
                                        "name": "restaurant_id"
                                    },
                                    {
                                        "name": "rating"
                                    },
                                    {
                                        "name": "comment"
                                    }
                                ]
                            },
                            "data": [
                                {
                                    "restaurant_review_id": "3",
                                    "customer_id": "10",
                                    "restaurant_id": "4",
                                    "rating": "5.0",
                                    "comment": "NULL"
                                }
                            ]
                        },
                        "text/html": "<table><tr><th>restaurant_review_id</th><th>customer_id</th><th>restaurant_id</th><th>rating</th><th>comment</th></tr><tr><td>3</td><td>10</td><td>4</td><td>5.0</td><td>NULL</td></tr></table>"
                    },
                    "metadata": {}
                },
                {
                    "output_type": "execute_result",
                    "execution_count": 8,
                    "data": {
                        "application/vnd.dataresource+json": {
                            "schema": {
                                "fields": [
                                    {
                                        "name": "(No column name)"
                                    }
                                ]
                            },
                            "data": [
                                {
                                    "(No column name)": "Transaction rollbacked"
                                }
                            ]
                        },
                        "text/html": "<table><tr><th>(No column name)</th></tr><tr><td>Transaction rollbacked</td></tr></table>"
                    },
                    "metadata": {}
                },
                {
                    "output_type": "execute_result",
                    "execution_count": 8,
                    "data": {
                        "application/vnd.dataresource+json": {
                            "schema": {
                                "fields": [
                                    {
                                        "name": "customer_id"
                                    },
                                    {
                                        "name": "customer_name"
                                    },
                                    {
                                        "name": "customer_address"
                                    },
                                    {
                                        "name": "phone_number"
                                    },
                                    {
                                        "name": "email_address"
                                    }
                                ]
                            },
                            "data": [
                                {
                                    "customer_id": "10",
                                    "customer_name": "Cosmin",
                                    "customer_address": "Cluj-Napoca",
                                    "phone_number": "0712121212",
                                    "email_address": "cosmin@example.com"
                                }
                            ]
                        },
                        "text/html": "<table><tr><th>customer_id</th><th>customer_name</th><th>customer_address</th><th>phone_number</th><th>email_address</th></tr><tr><td>10</td><td>Cosmin</td><td>Cluj-Napoca</td><td>0712121212</td><td>cosmin@example.com</td></tr></table>"
                    },
                    "metadata": {}
                },
                {
                    "output_type": "execute_result",
                    "execution_count": 8,
                    "data": {
                        "application/vnd.dataresource+json": {
                            "schema": {
                                "fields": [
                                    {
                                        "name": "restaurant_id"
                                    },
                                    {
                                        "name": "restaurant_name"
                                    },
                                    {
                                        "name": "restaurant_description"
                                    },
                                    {
                                        "name": "restaurant_phone_number"
                                    },
                                    {
                                        "name": "restaurant_address"
                                    }
                                ]
                            },
                            "data": [
                                {
                                    "restaurant_id": "4",
                                    "restaurant_name": "Grande",
                                    "restaurant_description": "A fine dining restaurant with a variety of gourmet dishes.",
                                    "restaurant_phone_number": "0700000000",
                                    "restaurant_address": "Cluj-Napoca"
                                }
                            ]
                        },
                        "text/html": "<table><tr><th>restaurant_id</th><th>restaurant_name</th><th>restaurant_description</th><th>restaurant_phone_number</th><th>restaurant_address</th></tr><tr><td>4</td><td>Grande</td><td>A fine dining restaurant with a variety of gourmet dishes.</td><td>0700000000</td><td>Cluj-Napoca</td></tr></table>"
                    },
                    "metadata": {}
                },
                {
                    "output_type": "execute_result",
                    "execution_count": 8,
                    "data": {
                        "application/vnd.dataresource+json": {
                            "schema": {
                                "fields": [
                                    {
                                        "name": "restaurant_review_id"
                                    },
                                    {
                                        "name": "customer_id"
                                    },
                                    {
                                        "name": "restaurant_id"
                                    },
                                    {
                                        "name": "rating"
                                    },
                                    {
                                        "name": "comment"
                                    }
                                ]
                            },
                            "data": [
                                {
                                    "restaurant_review_id": "3",
                                    "customer_id": "10",
                                    "restaurant_id": "4",
                                    "rating": "5.0",
                                    "comment": "NULL"
                                }
                            ]
                        },
                        "text/html": "<table><tr><th>restaurant_review_id</th><th>customer_id</th><th>restaurant_id</th><th>rating</th><th>comment</th></tr><tr><td>3</td><td>10</td><td>4</td><td>5.0</td><td>NULL</td></tr></table>"
                    },
                    "metadata": {}
                }
            ],
            "execution_count": 8
        },
        {
            "cell_type": "code",
            "source": [
                "CREATE OR ALTER PROCEDURE AddCustomerRestaurantReviewV2\n",
                "    @customer_name VARCHAR(50),\n",
                "    @customer_address VARCHAR(200),\n",
                "    @phone_number VARCHAR(20),\n",
                "    @email_address VARCHAR(50),\n",
                "    @restaurant_name VARCHAR(50),\n",
                "    @restaurant_description VARCHAR(500),\n",
                "    @restaurant_phone_number VARCHAR(20),\n",
                "    @restaurant_address VARCHAR(200)\n",
                "AS\n",
                "BEGIN\n",
                "    DECLARE @customer_id INT = -1, @restaurant_id INT = -1;\n",
                "\n",
                "    BEGIN TRANSACTION;\n",
                "    BEGIN TRY\n",
                "\n",
                "        IF dbo.ValidateCustomer(@customer_name, @customer_address, @phone_number, @email_address) = 0\n",
                "        BEGIN\n",
                "            RAISERROR('Invalid customer data', 14 , 1)\n",
                "        END\n",
                "        INSERT INTO Customer (customer_name, customer_address, phone_number, email_address)\n",
                "        VALUES (@customer_name, @customer_address, @phone_number, @email_address);\n",
                "        \n",
                "        SET @customer_id = SCOPE_IDENTITY();\n",
                "        COMMIT TRANSACTION;\n",
                "        SELECT 'Customer transaction committed';\n",
                "    END TRY\n",
                "    BEGIN CATCH\n",
                "        ROLLBACK TRANSACTION;\n",
                "        SELECT 'Customer transaction  rollbacked'\n",
                "    END CATCH\n",
                "\n",
                "    BEGIN TRANSACTION;\n",
                "    BEGIN TRY\n",
                "        IF dbo.ValidateRestaurant(@restaurant_name, @restaurant_description, @restaurant_phone_number, @restaurant_address) = 0\n",
                "        BEGIN\n",
                "            RAISERROR('Invalid restaurant data', 14, 1)\n",
                "        END\n",
                "        INSERT INTO Restaurant (restaurant_name, restaurant_description, restaurant_phone_number, restaurant_address)\n",
                "        VALUES (@restaurant_name, @restaurant_description, @restaurant_phone_number, @restaurant_address);\n",
                "        \n",
                "        SET @restaurant_id = SCOPE_IDENTITY();\n",
                "        \n",
                "        COMMIT TRANSACTION;\n",
                "        SELECT 'Restaurant transaction committed';\n",
                "    END TRY\n",
                "    BEGIN CATCH\n",
                "        ROLLBACK TRANSACTION;\n",
                "        SELECT 'Restaurant transaction rollbacked';\n",
                "    END CATCH;\n",
                "\n",
                "    BEGIN TRANSACTION;\n",
                "    BEGIN TRY\n",
                "\n",
                "        IF @customer_id = -1 OR @restaurant_id = -1\n",
                "        BEGIN\n",
                "          RAISERROR('Invalid ids!', 14, 1)\n",
                "        END\n",
                "\n",
                "        INSERT INTO RestaurantReview (customer_id, restaurant_id)\n",
                "        VALUES (@customer_id, @restaurant_id);\n",
                "        \n",
                "    \n",
                "        COMMIT TRANSACTION;\n",
                "        SELECT 'RestaurantReview transaction committed';\n",
                "    END TRY\n",
                "    BEGIN CATCH\n",
                "       ROLLBACK TRANSACTION;\n",
                "       SELECT 'RestaurantReview transaction rollbacked';\n",
                "    END CATCH;\n",
                "END;\n",
                ""
            ],
            "metadata": {
                "azdata_cell_guid": "b81ea49d-e3f1-47fb-b70c-0cd28493b71c",
                "language": "sql"
            },
            "outputs": [
                {
                    "output_type": "display_data",
                    "data": {
                        "text/html": "Commands completed successfully."
                    },
                    "metadata": {}
                },
                {
                    "output_type": "display_data",
                    "data": {
                        "text/html": "Total execution time: 00:00:00.033"
                    },
                    "metadata": {}
                }
            ],
            "execution_count": 47
        },
        {
            "cell_type": "code",
            "source": [
                "select * from customer\n",
                "select * from Restaurant\n",
                "select * from RestaurantReview\n",
                "\n",
                "EXEC AddCustomerRestaurantReviewV2\n",
                "    @customer_name = 'Cosmin',\n",
                "    @customer_address = 'Cluj-Napoca',\n",
                "    @phone_number = '0712121212',\n",
                "    @email_address = '',\n",
                "    @restaurant_name = 'Grande',\n",
                "    @restaurant_description = 'A fine dining restaurant with a variety of gourmet dishes.',\n",
                "    @restaurant_phone_number = '0700000000',\n",
                "    @restaurant_address = 'Cluj-Napoca'\n",
                "\n",
                "select * from customer\n",
                "select * from Restaurant\n",
                "select * from RestaurantReview"
            ],
            "metadata": {
                "azdata_cell_guid": "1944d178-83c2-4726-876e-ee9e856f090a",
                "language": "sql"
            },
            "outputs": [
                {
                    "output_type": "display_data",
                    "data": {
                        "text/html": "(1 row affected)"
                    },
                    "metadata": {}
                },
                {
                    "output_type": "display_data",
                    "data": {
                        "text/html": "(1 row affected)"
                    },
                    "metadata": {}
                },
                {
                    "output_type": "display_data",
                    "data": {
                        "text/html": "(1 row affected)"
                    },
                    "metadata": {}
                },
                {
                    "output_type": "display_data",
                    "data": {
                        "text/html": "(1 row affected)"
                    },
                    "metadata": {}
                },
                {
                    "output_type": "display_data",
                    "data": {
                        "text/html": "(1 row affected)"
                    },
                    "metadata": {}
                },
                {
                    "output_type": "display_data",
                    "data": {
                        "text/html": "(1 row affected)"
                    },
                    "metadata": {}
                },
                {
                    "output_type": "display_data",
                    "data": {
                        "text/html": "(1 row affected)"
                    },
                    "metadata": {}
                },
                {
                    "output_type": "display_data",
                    "data": {
                        "text/html": "(1 row affected)"
                    },
                    "metadata": {}
                },
                {
                    "output_type": "display_data",
                    "data": {
                        "text/html": "(2 rows affected)"
                    },
                    "metadata": {}
                },
                {
                    "output_type": "display_data",
                    "data": {
                        "text/html": "(1 row affected)"
                    },
                    "metadata": {}
                },
                {
                    "output_type": "display_data",
                    "data": {
                        "text/html": "Total execution time: 00:00:00.031"
                    },
                    "metadata": {}
                },
                {
                    "output_type": "execute_result",
                    "execution_count": 9,
                    "data": {
                        "application/vnd.dataresource+json": {
                            "schema": {
                                "fields": [
                                    {
                                        "name": "customer_id"
                                    },
                                    {
                                        "name": "customer_name"
                                    },
                                    {
                                        "name": "customer_address"
                                    },
                                    {
                                        "name": "phone_number"
                                    },
                                    {
                                        "name": "email_address"
                                    }
                                ]
                            },
                            "data": [
                                {
                                    "customer_id": "10",
                                    "customer_name": "Cosmin",
                                    "customer_address": "Cluj-Napoca",
                                    "phone_number": "0712121212",
                                    "email_address": "cosmin@example.com"
                                }
                            ]
                        },
                        "text/html": "<table><tr><th>customer_id</th><th>customer_name</th><th>customer_address</th><th>phone_number</th><th>email_address</th></tr><tr><td>10</td><td>Cosmin</td><td>Cluj-Napoca</td><td>0712121212</td><td>cosmin@example.com</td></tr></table>"
                    },
                    "metadata": {}
                },
                {
                    "output_type": "execute_result",
                    "execution_count": 9,
                    "data": {
                        "application/vnd.dataresource+json": {
                            "schema": {
                                "fields": [
                                    {
                                        "name": "restaurant_id"
                                    },
                                    {
                                        "name": "restaurant_name"
                                    },
                                    {
                                        "name": "restaurant_description"
                                    },
                                    {
                                        "name": "restaurant_phone_number"
                                    },
                                    {
                                        "name": "restaurant_address"
                                    }
                                ]
                            },
                            "data": [
                                {
                                    "restaurant_id": "4",
                                    "restaurant_name": "Grande",
                                    "restaurant_description": "A fine dining restaurant with a variety of gourmet dishes.",
                                    "restaurant_phone_number": "0700000000",
                                    "restaurant_address": "Cluj-Napoca"
                                }
                            ]
                        },
                        "text/html": "<table><tr><th>restaurant_id</th><th>restaurant_name</th><th>restaurant_description</th><th>restaurant_phone_number</th><th>restaurant_address</th></tr><tr><td>4</td><td>Grande</td><td>A fine dining restaurant with a variety of gourmet dishes.</td><td>0700000000</td><td>Cluj-Napoca</td></tr></table>"
                    },
                    "metadata": {}
                },
                {
                    "output_type": "execute_result",
                    "execution_count": 9,
                    "data": {
                        "application/vnd.dataresource+json": {
                            "schema": {
                                "fields": [
                                    {
                                        "name": "restaurant_review_id"
                                    },
                                    {
                                        "name": "customer_id"
                                    },
                                    {
                                        "name": "restaurant_id"
                                    },
                                    {
                                        "name": "rating"
                                    },
                                    {
                                        "name": "comment"
                                    }
                                ]
                            },
                            "data": [
                                {
                                    "restaurant_review_id": "3",
                                    "customer_id": "10",
                                    "restaurant_id": "4",
                                    "rating": "5.0",
                                    "comment": "NULL"
                                }
                            ]
                        },
                        "text/html": "<table><tr><th>restaurant_review_id</th><th>customer_id</th><th>restaurant_id</th><th>rating</th><th>comment</th></tr><tr><td>3</td><td>10</td><td>4</td><td>5.0</td><td>NULL</td></tr></table>"
                    },
                    "metadata": {}
                },
                {
                    "output_type": "execute_result",
                    "execution_count": 9,
                    "data": {
                        "application/vnd.dataresource+json": {
                            "schema": {
                                "fields": [
                                    {
                                        "name": "(No column name)"
                                    }
                                ]
                            },
                            "data": [
                                {
                                    "(No column name)": "Customer transaction  rollbacked"
                                }
                            ]
                        },
                        "text/html": "<table><tr><th>(No column name)</th></tr><tr><td>Customer transaction  rollbacked</td></tr></table>"
                    },
                    "metadata": {}
                },
                {
                    "output_type": "execute_result",
                    "execution_count": 9,
                    "data": {
                        "application/vnd.dataresource+json": {
                            "schema": {
                                "fields": [
                                    {
                                        "name": "(No column name)"
                                    }
                                ]
                            },
                            "data": [
                                {
                                    "(No column name)": "Restaurant transaction committed"
                                }
                            ]
                        },
                        "text/html": "<table><tr><th>(No column name)</th></tr><tr><td>Restaurant transaction committed</td></tr></table>"
                    },
                    "metadata": {}
                },
                {
                    "output_type": "execute_result",
                    "execution_count": 9,
                    "data": {
                        "application/vnd.dataresource+json": {
                            "schema": {
                                "fields": [
                                    {
                                        "name": "(No column name)"
                                    }
                                ]
                            },
                            "data": [
                                {
                                    "(No column name)": "RestaurantReview transaction rollbacked"
                                }
                            ]
                        },
                        "text/html": "<table><tr><th>(No column name)</th></tr><tr><td>RestaurantReview transaction rollbacked</td></tr></table>"
                    },
                    "metadata": {}
                },
                {
                    "output_type": "execute_result",
                    "execution_count": 9,
                    "data": {
                        "application/vnd.dataresource+json": {
                            "schema": {
                                "fields": [
                                    {
                                        "name": "customer_id"
                                    },
                                    {
                                        "name": "customer_name"
                                    },
                                    {
                                        "name": "customer_address"
                                    },
                                    {
                                        "name": "phone_number"
                                    },
                                    {
                                        "name": "email_address"
                                    }
                                ]
                            },
                            "data": [
                                {
                                    "customer_id": "10",
                                    "customer_name": "Cosmin",
                                    "customer_address": "Cluj-Napoca",
                                    "phone_number": "0712121212",
                                    "email_address": "cosmin@example.com"
                                }
                            ]
                        },
                        "text/html": "<table><tr><th>customer_id</th><th>customer_name</th><th>customer_address</th><th>phone_number</th><th>email_address</th></tr><tr><td>10</td><td>Cosmin</td><td>Cluj-Napoca</td><td>0712121212</td><td>cosmin@example.com</td></tr></table>"
                    },
                    "metadata": {}
                },
                {
                    "output_type": "execute_result",
                    "execution_count": 9,
                    "data": {
                        "application/vnd.dataresource+json": {
                            "schema": {
                                "fields": [
                                    {
                                        "name": "restaurant_id"
                                    },
                                    {
                                        "name": "restaurant_name"
                                    },
                                    {
                                        "name": "restaurant_description"
                                    },
                                    {
                                        "name": "restaurant_phone_number"
                                    },
                                    {
                                        "name": "restaurant_address"
                                    }
                                ]
                            },
                            "data": [
                                {
                                    "restaurant_id": "4",
                                    "restaurant_name": "Grande",
                                    "restaurant_description": "A fine dining restaurant with a variety of gourmet dishes.",
                                    "restaurant_phone_number": "0700000000",
                                    "restaurant_address": "Cluj-Napoca"
                                },
                                {
                                    "restaurant_id": "5",
                                    "restaurant_name": "Grande",
                                    "restaurant_description": "A fine dining restaurant with a variety of gourmet dishes.",
                                    "restaurant_phone_number": "0700000000",
                                    "restaurant_address": "Cluj-Napoca"
                                }
                            ]
                        },
                        "text/html": "<table><tr><th>restaurant_id</th><th>restaurant_name</th><th>restaurant_description</th><th>restaurant_phone_number</th><th>restaurant_address</th></tr><tr><td>4</td><td>Grande</td><td>A fine dining restaurant with a variety of gourmet dishes.</td><td>0700000000</td><td>Cluj-Napoca</td></tr><tr><td>5</td><td>Grande</td><td>A fine dining restaurant with a variety of gourmet dishes.</td><td>0700000000</td><td>Cluj-Napoca</td></tr></table>"
                    },
                    "metadata": {}
                },
                {
                    "output_type": "execute_result",
                    "execution_count": 9,
                    "data": {
                        "application/vnd.dataresource+json": {
                            "schema": {
                                "fields": [
                                    {
                                        "name": "restaurant_review_id"
                                    },
                                    {
                                        "name": "customer_id"
                                    },
                                    {
                                        "name": "restaurant_id"
                                    },
                                    {
                                        "name": "rating"
                                    },
                                    {
                                        "name": "comment"
                                    }
                                ]
                            },
                            "data": [
                                {
                                    "restaurant_review_id": "3",
                                    "customer_id": "10",
                                    "restaurant_id": "4",
                                    "rating": "5.0",
                                    "comment": "NULL"
                                }
                            ]
                        },
                        "text/html": "<table><tr><th>restaurant_review_id</th><th>customer_id</th><th>restaurant_id</th><th>rating</th><th>comment</th></tr><tr><td>3</td><td>10</td><td>4</td><td>5.0</td><td>NULL</td></tr></table>"
                    },
                    "metadata": {}
                }
            ],
            "execution_count": 9
        },
        {
            "cell_type": "code",
            "source": [
                "select * from customer\n",
                "select * from Restaurant\n",
                "select * from RestaurantReview\n",
                "\n",
                "EXEC AddCustomerRestaurantReviewV2\n",
                "    @customer_name = 'Cosmin',\n",
                "    @customer_address = 'Cluj-Napoca',\n",
                "    @phone_number = '0712121212',\n",
                "    @email_address = 'cosmin@gmail.com',\n",
                "    @restaurant_name = '',\n",
                "    @restaurant_description = 'A fine dining restaurant with a variety of gourmet dishes.',\n",
                "    @restaurant_phone_number = '0700000000',\n",
                "    @restaurant_address = 'Cluj-Napoca'\n",
                "\n",
                "select * from customer\n",
                "select * from Restaurant\n",
                "select * from RestaurantReview"
            ],
            "metadata": {
                "language": "sql",
                "azdata_cell_guid": "cf1ff2a3-7d96-4817-a00d-8d41f5a8aeb2"
            },
            "outputs": [
                {
                    "output_type": "display_data",
                    "data": {
                        "text/html": "(1 row affected)"
                    },
                    "metadata": {}
                },
                {
                    "output_type": "display_data",
                    "data": {
                        "text/html": "(2 rows affected)"
                    },
                    "metadata": {}
                },
                {
                    "output_type": "display_data",
                    "data": {
                        "text/html": "(1 row affected)"
                    },
                    "metadata": {}
                },
                {
                    "output_type": "display_data",
                    "data": {
                        "text/html": "(1 row affected)"
                    },
                    "metadata": {}
                },
                {
                    "output_type": "display_data",
                    "data": {
                        "text/html": "(1 row affected)"
                    },
                    "metadata": {}
                },
                {
                    "output_type": "display_data",
                    "data": {
                        "text/html": "(1 row affected)"
                    },
                    "metadata": {}
                },
                {
                    "output_type": "display_data",
                    "data": {
                        "text/html": "(1 row affected)"
                    },
                    "metadata": {}
                },
                {
                    "output_type": "display_data",
                    "data": {
                        "text/html": "(2 rows affected)"
                    },
                    "metadata": {}
                },
                {
                    "output_type": "display_data",
                    "data": {
                        "text/html": "(2 rows affected)"
                    },
                    "metadata": {}
                },
                {
                    "output_type": "display_data",
                    "data": {
                        "text/html": "(1 row affected)"
                    },
                    "metadata": {}
                },
                {
                    "output_type": "display_data",
                    "data": {
                        "text/html": "Total execution time: 00:00:00.029"
                    },
                    "metadata": {}
                },
                {
                    "output_type": "execute_result",
                    "execution_count": 49,
                    "data": {
                        "application/vnd.dataresource+json": {
                            "schema": {
                                "fields": [
                                    {
                                        "name": "customer_id"
                                    },
                                    {
                                        "name": "customer_name"
                                    },
                                    {
                                        "name": "customer_address"
                                    },
                                    {
                                        "name": "phone_number"
                                    },
                                    {
                                        "name": "email_address"
                                    }
                                ]
                            },
                            "data": [
                                {
                                    "customer_id": "1",
                                    "customer_name": "Cosmin",
                                    "customer_address": "Cluj-Napoca",
                                    "phone_number": "0712121212",
                                    "email_address": "cosmin@example.com"
                                }
                            ]
                        },
                        "text/html": "<table><tr><th>customer_id</th><th>customer_name</th><th>customer_address</th><th>phone_number</th><th>email_address</th></tr><tr><td>1</td><td>Cosmin</td><td>Cluj-Napoca</td><td>0712121212</td><td>cosmin@example.com</td></tr></table>"
                    },
                    "metadata": {}
                },
                {
                    "output_type": "execute_result",
                    "execution_count": 49,
                    "data": {
                        "application/vnd.dataresource+json": {
                            "schema": {
                                "fields": [
                                    {
                                        "name": "restaurant_id"
                                    },
                                    {
                                        "name": "restaurant_name"
                                    },
                                    {
                                        "name": "restaurant_description"
                                    },
                                    {
                                        "name": "restaurant_phone_number"
                                    },
                                    {
                                        "name": "restaurant_address"
                                    }
                                ]
                            },
                            "data": [
                                {
                                    "restaurant_id": "1",
                                    "restaurant_name": "Grande",
                                    "restaurant_description": "A fine dining restaurant with a variety of gourmet dishes.",
                                    "restaurant_phone_number": "0700000000",
                                    "restaurant_address": "Cluj-Napoca"
                                },
                                {
                                    "restaurant_id": "2",
                                    "restaurant_name": "Grande",
                                    "restaurant_description": "A fine dining restaurant with a variety of gourmet dishes.",
                                    "restaurant_phone_number": "0700000000",
                                    "restaurant_address": "Cluj-Napoca"
                                }
                            ]
                        },
                        "text/html": "<table><tr><th>restaurant_id</th><th>restaurant_name</th><th>restaurant_description</th><th>restaurant_phone_number</th><th>restaurant_address</th></tr><tr><td>1</td><td>Grande</td><td>A fine dining restaurant with a variety of gourmet dishes.</td><td>0700000000</td><td>Cluj-Napoca</td></tr><tr><td>2</td><td>Grande</td><td>A fine dining restaurant with a variety of gourmet dishes.</td><td>0700000000</td><td>Cluj-Napoca</td></tr></table>"
                    },
                    "metadata": {}
                },
                {
                    "output_type": "execute_result",
                    "execution_count": 49,
                    "data": {
                        "application/vnd.dataresource+json": {
                            "schema": {
                                "fields": [
                                    {
                                        "name": "restaurant_review_id"
                                    },
                                    {
                                        "name": "customer_id"
                                    },
                                    {
                                        "name": "restaurant_id"
                                    },
                                    {
                                        "name": "rating"
                                    },
                                    {
                                        "name": "comment"
                                    }
                                ]
                            },
                            "data": [
                                {
                                    "restaurant_review_id": "1",
                                    "customer_id": "1",
                                    "restaurant_id": "1",
                                    "rating": "5.0",
                                    "comment": "NULL"
                                }
                            ]
                        },
                        "text/html": "<table><tr><th>restaurant_review_id</th><th>customer_id</th><th>restaurant_id</th><th>rating</th><th>comment</th></tr><tr><td>1</td><td>1</td><td>1</td><td>5.0</td><td>NULL</td></tr></table>"
                    },
                    "metadata": {}
                },
                {
                    "output_type": "execute_result",
                    "execution_count": 49,
                    "data": {
                        "application/vnd.dataresource+json": {
                            "schema": {
                                "fields": [
                                    {
                                        "name": "(No column name)"
                                    }
                                ]
                            },
                            "data": [
                                {
                                    "(No column name)": "Customer transaction committed"
                                }
                            ]
                        },
                        "text/html": "<table><tr><th>(No column name)</th></tr><tr><td>Customer transaction committed</td></tr></table>"
                    },
                    "metadata": {}
                },
                {
                    "output_type": "execute_result",
                    "execution_count": 49,
                    "data": {
                        "application/vnd.dataresource+json": {
                            "schema": {
                                "fields": [
                                    {
                                        "name": "(No column name)"
                                    }
                                ]
                            },
                            "data": [
                                {
                                    "(No column name)": "Restaurant transaction rollbacked"
                                }
                            ]
                        },
                        "text/html": "<table><tr><th>(No column name)</th></tr><tr><td>Restaurant transaction rollbacked</td></tr></table>"
                    },
                    "metadata": {}
                },
                {
                    "output_type": "execute_result",
                    "execution_count": 49,
                    "data": {
                        "application/vnd.dataresource+json": {
                            "schema": {
                                "fields": [
                                    {
                                        "name": "(No column name)"
                                    }
                                ]
                            },
                            "data": [
                                {
                                    "(No column name)": "RestaurantReview transaction rollbacked"
                                }
                            ]
                        },
                        "text/html": "<table><tr><th>(No column name)</th></tr><tr><td>RestaurantReview transaction rollbacked</td></tr></table>"
                    },
                    "metadata": {}
                },
                {
                    "output_type": "execute_result",
                    "execution_count": 49,
                    "data": {
                        "application/vnd.dataresource+json": {
                            "schema": {
                                "fields": [
                                    {
                                        "name": "customer_id"
                                    },
                                    {
                                        "name": "customer_name"
                                    },
                                    {
                                        "name": "customer_address"
                                    },
                                    {
                                        "name": "phone_number"
                                    },
                                    {
                                        "name": "email_address"
                                    }
                                ]
                            },
                            "data": [
                                {
                                    "customer_id": "1",
                                    "customer_name": "Cosmin",
                                    "customer_address": "Cluj-Napoca",
                                    "phone_number": "0712121212",
                                    "email_address": "cosmin@example.com"
                                },
                                {
                                    "customer_id": "2",
                                    "customer_name": "Cosmin",
                                    "customer_address": "Cluj-Napoca",
                                    "phone_number": "0712121212",
                                    "email_address": "cosmin@gmail.com"
                                }
                            ]
                        },
                        "text/html": "<table><tr><th>customer_id</th><th>customer_name</th><th>customer_address</th><th>phone_number</th><th>email_address</th></tr><tr><td>1</td><td>Cosmin</td><td>Cluj-Napoca</td><td>0712121212</td><td>cosmin@example.com</td></tr><tr><td>2</td><td>Cosmin</td><td>Cluj-Napoca</td><td>0712121212</td><td>cosmin@gmail.com</td></tr></table>"
                    },
                    "metadata": {}
                },
                {
                    "output_type": "execute_result",
                    "execution_count": 49,
                    "data": {
                        "application/vnd.dataresource+json": {
                            "schema": {
                                "fields": [
                                    {
                                        "name": "restaurant_id"
                                    },
                                    {
                                        "name": "restaurant_name"
                                    },
                                    {
                                        "name": "restaurant_description"
                                    },
                                    {
                                        "name": "restaurant_phone_number"
                                    },
                                    {
                                        "name": "restaurant_address"
                                    }
                                ]
                            },
                            "data": [
                                {
                                    "restaurant_id": "1",
                                    "restaurant_name": "Grande",
                                    "restaurant_description": "A fine dining restaurant with a variety of gourmet dishes.",
                                    "restaurant_phone_number": "0700000000",
                                    "restaurant_address": "Cluj-Napoca"
                                },
                                {
                                    "restaurant_id": "2",
                                    "restaurant_name": "Grande",
                                    "restaurant_description": "A fine dining restaurant with a variety of gourmet dishes.",
                                    "restaurant_phone_number": "0700000000",
                                    "restaurant_address": "Cluj-Napoca"
                                }
                            ]
                        },
                        "text/html": "<table><tr><th>restaurant_id</th><th>restaurant_name</th><th>restaurant_description</th><th>restaurant_phone_number</th><th>restaurant_address</th></tr><tr><td>1</td><td>Grande</td><td>A fine dining restaurant with a variety of gourmet dishes.</td><td>0700000000</td><td>Cluj-Napoca</td></tr><tr><td>2</td><td>Grande</td><td>A fine dining restaurant with a variety of gourmet dishes.</td><td>0700000000</td><td>Cluj-Napoca</td></tr></table>"
                    },
                    "metadata": {}
                },
                {
                    "output_type": "execute_result",
                    "execution_count": 49,
                    "data": {
                        "application/vnd.dataresource+json": {
                            "schema": {
                                "fields": [
                                    {
                                        "name": "restaurant_review_id"
                                    },
                                    {
                                        "name": "customer_id"
                                    },
                                    {
                                        "name": "restaurant_id"
                                    },
                                    {
                                        "name": "rating"
                                    },
                                    {
                                        "name": "comment"
                                    }
                                ]
                            },
                            "data": [
                                {
                                    "restaurant_review_id": "1",
                                    "customer_id": "1",
                                    "restaurant_id": "1",
                                    "rating": "5.0",
                                    "comment": "NULL"
                                }
                            ]
                        },
                        "text/html": "<table><tr><th>restaurant_review_id</th><th>customer_id</th><th>restaurant_id</th><th>rating</th><th>comment</th></tr><tr><td>1</td><td>1</td><td>1</td><td>5.0</td><td>NULL</td></tr></table>"
                    },
                    "metadata": {}
                }
            ],
            "execution_count": 49
        },
        {
            "cell_type": "code",
            "source": [
                "-- Dirty Reads\n",
                "-- T1: update + delay + rollback\n",
                "-- T2: select + delay + select\n",
                "BEGIN TRAN\n",
                "UPDATE CUSTOMER SET customer_address='test'\n",
                "where customer_id = 2\n",
                "WAITFOR DELAY '00:00:10'\n",
                "ROLLBACK TRAN"
            ],
            "metadata": {
                "azdata_cell_guid": "dd757158-2880-4e19-8ad1-e7d23aeb32a2",
                "language": "sql",
                "tags": []
            },
            "outputs": [
                {
                    "output_type": "display_data",
                    "data": {
                        "text/html": "(1 row affected)"
                    },
                    "metadata": {}
                },
                {
                    "output_type": "display_data",
                    "data": {
                        "text/html": "Total execution time: 00:00:10.006"
                    },
                    "metadata": {}
                }
            ],
            "execution_count": 58
        },
        {
            "cell_type": "code",
            "source": [
                "SET TRAN ISOLATION LEVEL READ UNCOMMITTED\n",
                "BEGIN TRAN\n",
                "select * from Customer\n",
                "WAITFOR DELAY '00:00:15'\n",
                "select * from Customer\n",
                "COMMIT TRAN"
            ],
            "metadata": {
                "language": "sql",
                "azdata_cell_guid": "c3928261-e4cb-4c87-b353-3a26c67e14f0"
            },
            "outputs": [],
            "execution_count": null
        },
        {
            "cell_type": "code",
            "source": [
                "select * from customer\n",
                "\n",
                "        "
            ],
            "metadata": {
                "language": "sql",
                "azdata_cell_guid": "3eacc24e-e720-4045-930a-3a5b054df803"
            },
            "outputs": [
                {
                    "output_type": "display_data",
                    "data": {
                        "text/html": "(3 rows affected)"
                    },
                    "metadata": {}
                },
                {
                    "output_type": "display_data",
                    "data": {
                        "text/html": "Total execution time: 00:00:00.003"
                    },
                    "metadata": {}
                },
                {
                    "output_type": "execute_result",
                    "execution_count": 63,
                    "data": {
                        "application/vnd.dataresource+json": {
                            "schema": {
                                "fields": [
                                    {
                                        "name": "customer_id"
                                    },
                                    {
                                        "name": "customer_name"
                                    },
                                    {
                                        "name": "customer_address"
                                    },
                                    {
                                        "name": "phone_number"
                                    },
                                    {
                                        "name": "email_address"
                                    }
                                ]
                            },
                            "data": [
                                {
                                    "customer_id": "1",
                                    "customer_name": "Cosmin",
                                    "customer_address": "Cluj-Napoca",
                                    "phone_number": "0712121212",
                                    "email_address": "cosmin@example.com"
                                },
                                {
                                    "customer_id": "2",
                                    "customer_name": "Cosmin",
                                    "customer_address": "Cluj-Napoca",
                                    "phone_number": "0712121212",
                                    "email_address": "cosmin@gmail.com"
                                },
                                {
                                    "customer_id": "3",
                                    "customer_name": "alex",
                                    "customer_address": "moisei",
                                    "phone_number": "1234567890",
                                    "email_address": "test@test.ro"
                                }
                            ]
                        },
                        "text/html": "<table><tr><th>customer_id</th><th>customer_name</th><th>customer_address</th><th>phone_number</th><th>email_address</th></tr><tr><td>1</td><td>Cosmin</td><td>Cluj-Napoca</td><td>0712121212</td><td>cosmin@example.com</td></tr><tr><td>2</td><td>Cosmin</td><td>Cluj-Napoca</td><td>0712121212</td><td>cosmin@gmail.com</td></tr><tr><td>3</td><td>alex</td><td>moisei</td><td>1234567890</td><td>test@test.ro</td></tr></table>"
                    },
                    "metadata": {}
                }
            ],
            "execution_count": 63
        },
        {
            "cell_type": "code",
            "source": [
                "-- Non repeatable reads\n",
                "-- T1: delay + update + commit\n",
                "-- T2: select + delay + select\n",
                "\n",
                "BEGIN TRAN\n",
                "WAITFOR DELAY '00:00:05'\n",
                "UPDATE CUSTOMER SET customer_address = 'moisei'\n",
                "where customer_name = 'alex'\n",
                "COMMIT TRAN\n",
                "\n",
                "\n",
                "SET TRAN ISOLATION LEVEL READ COMMITTED\n",
                "BEGIN TRAN\n",
                "select * from Customer\n",
                "WAITFOR DELAY '00:00:05'\n",
                "select * from Customer\n",
                "COMMIT TRAN\n",
                "\n",
                "-- solution ISOLATION LEVEL REPEATABLE READ\n",
                ""
            ],
            "metadata": {
                "language": "sql",
                "azdata_cell_guid": "aa291473-7aa0-4701-ade4-d833d3bdd324"
            },
            "outputs": [],
            "execution_count": null
        },
        {
            "cell_type": "code",
            "source": [
                "-- phantom reads\n",
                "-- T1: delay + insert + commit\n",
                "-- T2: select + delay + select\n",
                "\n",
                "BEGIN TRAN\n",
                "WAITFOR DELAY '00:00:04'\n",
                "INSERT INTO Customer (customer_name, customer_address, phone_number, email_address)\n",
                "        VALUES ('customer1', 'test1', '0000000000', 'test1@gmail.ro');\n",
                "COMMIT TRAN\n",
                "        \n",
                "\n",
                "\n",
                "SET TRAN ISOLATION LEVEL REPEATABLE READ\n",
                "BEGIN TRAN\n",
                "select * from Customer\n",
                "WAITFOR DELAY '00:00:05'\n",
                "select * from Customer\n",
                "COMMIT TRAN\n",
                "\n",
                "-- solution set level to serializable\n",
                "\n",
                ""
            ],
            "metadata": {
                "language": "sql",
                "azdata_cell_guid": "deb1efa6-7c73-46fb-b15a-522cd349a15b"
            },
            "outputs": [],
            "execution_count": null
        },
        {
            "cell_type": "code",
            "source": [
                "select * from customer\n",
                "\n",
                "delete from customer where customer_name = 'customer1'"
            ],
            "metadata": {
                "language": "sql",
                "azdata_cell_guid": "c78a2f78-73e6-47a6-a374-5582e16630a3"
            },
            "outputs": [
                {
                    "output_type": "display_data",
                    "data": {
                        "text/html": "(3 rows affected)"
                    },
                    "metadata": {}
                },
                {
                    "output_type": "display_data",
                    "data": {
                        "text/html": "(0 rows affected)"
                    },
                    "metadata": {}
                },
                {
                    "output_type": "display_data",
                    "data": {
                        "text/html": "Total execution time: 00:00:00.004"
                    },
                    "metadata": {}
                },
                {
                    "output_type": "execute_result",
                    "execution_count": 69,
                    "data": {
                        "application/vnd.dataresource+json": {
                            "schema": {
                                "fields": [
                                    {
                                        "name": "customer_id"
                                    },
                                    {
                                        "name": "customer_name"
                                    },
                                    {
                                        "name": "customer_address"
                                    },
                                    {
                                        "name": "phone_number"
                                    },
                                    {
                                        "name": "email_address"
                                    }
                                ]
                            },
                            "data": [
                                {
                                    "customer_id": "1",
                                    "customer_name": "Cosmin",
                                    "customer_address": "Cluj-Napoca",
                                    "phone_number": "0712121212",
                                    "email_address": "cosmin@example.com"
                                },
                                {
                                    "customer_id": "2",
                                    "customer_name": "Cosmin",
                                    "customer_address": "Cluj-Napoca",
                                    "phone_number": "0712121212",
                                    "email_address": "cosmin@gmail.com"
                                },
                                {
                                    "customer_id": "3",
                                    "customer_name": "alex",
                                    "customer_address": "moisei2",
                                    "phone_number": "1234567890",
                                    "email_address": "test@test.ro"
                                }
                            ]
                        },
                        "text/html": "<table><tr><th>customer_id</th><th>customer_name</th><th>customer_address</th><th>phone_number</th><th>email_address</th></tr><tr><td>1</td><td>Cosmin</td><td>Cluj-Napoca</td><td>0712121212</td><td>cosmin@example.com</td></tr><tr><td>2</td><td>Cosmin</td><td>Cluj-Napoca</td><td>0712121212</td><td>cosmin@gmail.com</td></tr><tr><td>3</td><td>alex</td><td>moisei2</td><td>1234567890</td><td>test@test.ro</td></tr></table>"
                    },
                    "metadata": {}
                }
            ],
            "execution_count": 69
        },
        {
            "cell_type": "code",
            "source": [
                "select * from Customer\n",
                "\n",
                "select * from Restaurant"
            ],
            "metadata": {
                "language": "sql",
                "azdata_cell_guid": "44c59f27-dc83-45cf-8581-fe3f324870b1",
                "tags": []
            },
            "outputs": [
                {
                    "output_type": "display_data",
                    "data": {
                        "text/html": "(3 rows affected)"
                    },
                    "metadata": {}
                },
                {
                    "output_type": "display_data",
                    "data": {
                        "text/html": "Total execution time: 00:00:05.006"
                    },
                    "metadata": {}
                },
                {
                    "output_type": "execute_result",
                    "execution_count": 4,
                    "data": {
                        "application/vnd.dataresource+json": {
                            "schema": {
                                "fields": [
                                    {
                                        "name": "customer_id"
                                    },
                                    {
                                        "name": "customer_name"
                                    },
                                    {
                                        "name": "customer_address"
                                    },
                                    {
                                        "name": "phone_number"
                                    },
                                    {
                                        "name": "email_address"
                                    }
                                ]
                            },
                            "data": [
                                {
                                    "customer_id": "1",
                                    "customer_name": "razvan",
                                    "customer_address": "Cluj-Napoca",
                                    "phone_number": "0712121212",
                                    "email_address": "cosmin@example.com"
                                }
                            ]
                        },
                        "text/html": "<table><tr><th>customer_id</th><th>customer_name</th><th>customer_address</th><th>phone_number</th><th>email_address</th></tr><tr><td>1</td><td>razvan</td><td>Cluj-Napoca</td><td>0712121212</td><td>cosmin@example.com</td></tr></table>"
                    },
                    "metadata": {}
                },
                {
                    "output_type": "execute_result",
                    "execution_count": 4,
                    "data": {
                        "application/vnd.dataresource+json": {
                            "schema": {
                                "fields": [
                                    {
                                        "name": "restaurant_id"
                                    },
                                    {
                                        "name": "restaurant_name"
                                    },
                                    {
                                        "name": "restaurant_description"
                                    },
                                    {
                                        "name": "restaurant_phone_number"
                                    },
                                    {
                                        "name": "restaurant_address"
                                    }
                                ]
                            },
                            "data": [
                                {
                                    "restaurant_id": "1",
                                    "restaurant_name": "Grande",
                                    "restaurant_description": "A fine dining restaurant with a variety of gourmet dishes.",
                                    "restaurant_phone_number": "0700000000",
                                    "restaurant_address": "Cluj-Napoca"
                                },
                                {
                                    "restaurant_id": "2",
                                    "restaurant_name": "restaurant2",
                                    "restaurant_description": "A fine dining restaurant with a variety of gourmet dishes.",
                                    "restaurant_phone_number": "0700000000",
                                    "restaurant_address": "Cluj-Napoca"
                                },
                                {
                                    "restaurant_id": "3",
                                    "restaurant_name": "Grande",
                                    "restaurant_description": "A fine dining restaurant with a variety of gourmet dishes.",
                                    "restaurant_phone_number": "0700000000",
                                    "restaurant_address": "Cluj-Napoca"
                                }
                            ]
                        },
                        "text/html": "<table><tr><th>restaurant_id</th><th>restaurant_name</th><th>restaurant_description</th><th>restaurant_phone_number</th><th>restaurant_address</th></tr><tr><td>1</td><td>Grande</td><td>A fine dining restaurant with a variety of gourmet dishes.</td><td>0700000000</td><td>Cluj-Napoca</td></tr><tr><td>2</td><td>restaurant2</td><td>A fine dining restaurant with a variety of gourmet dishes.</td><td>0700000000</td><td>Cluj-Napoca</td></tr><tr><td>3</td><td>Grande</td><td>A fine dining restaurant with a variety of gourmet dishes.</td><td>0700000000</td><td>Cluj-Napoca</td></tr></table>"
                    },
                    "metadata": {}
                },
                {
                    "output_type": "error",
                    "ename": "",
                    "evalue": "Msg 1222, Level 16, State 51, Line 1\nLock request time out period exceeded.",
                    "traceback": []
                }
            ],
            "execution_count": 4
        },
        {
            "cell_type": "code",
            "source": [
                "-- DEAD LOCK\n",
                "-- T1: update table Customer + delay + update Restaurant\n",
                "-- T2: update table Restaurant + delay + update Customer\n",
                "\n",
                "begin TRAN\n",
                "update Customer set customer_name='razvan' where customer_id = 1\n",
                "waitfor delay '00:00:10'\n",
                "update Restaurant set restaurant_name = 'restaurant2' where restaurant_id = 2\n",
                "commit tran\n",
                "\n",
                "begin TRAN\n",
                "update Restaurant set restaurant_name = 'restaurant2' where restaurant_id = 2\n",
                "waitfor delay '00:00:10'\n",
                "update Customer set customer_name='razvan' where customer_id = 1\n",
                "commit tran\n",
                "\n",
                "\n",
                "--- 1 solution to execute the stmts in the same order in both of the trans or to set the deadlock priority to choose the victim we want\n",
                "\n",
                "-- SET DEADLOCK_PRIORITY HIGH (LOW, NORMAL, HIGH / -10 to 10)"
            ],
            "metadata": {
                "language": "sql",
                "azdata_cell_guid": "6ffd0d90-18b5-4a7b-9ccc-d362dad64cd1"
            },
            "outputs": [],
            "execution_count": null
        },
        {
            "cell_type": "code",
            "source": [
                "use master\n",
                "go\n",
                "\n",
                "ALTER DATABASE OnlineFoodDelivery\n",
                "SET allow_snapshot_isolation on \n",
                "\n",
                "-- ALTER DATABASE OnlineFoodDelivery\n",
                "-- SET read_committed_snapshot on "
            ],
            "metadata": {
                "language": "sql",
                "azdata_cell_guid": "2860225c-de42-4f72-81e3-d5ea134b2624"
            },
            "outputs": [
                {
                    "output_type": "display_data",
                    "data": {
                        "text/html": "Commands completed successfully."
                    },
                    "metadata": {}
                },
                {
                    "output_type": "display_data",
                    "data": {
                        "text/html": "Commands completed successfully."
                    },
                    "metadata": {}
                },
                {
                    "output_type": "display_data",
                    "data": {
                        "text/html": "Total execution time: 00:00:00.063"
                    },
                    "metadata": {}
                }
            ],
            "execution_count": 41
        },
        {
            "cell_type": "code",
            "source": [
                "use master\n",
                "go\n",
                "\n",
                "ALTER DATABASE OnlineFoodDelivery\n",
                "SET allow_snapshot_isolation OFF\n",
                "\n",
                "-- ALTER DATABASE OnlineFoodDelivery\n",
                "-- SET read_committed_snapshot OFF\n",
                ""
            ],
            "metadata": {
                "language": "sql",
                "azdata_cell_guid": "8d991dde-1da1-4f3a-b014-4e5c992a7f49"
            },
            "outputs": [
                {
                    "output_type": "display_data",
                    "data": {
                        "text/html": "Commands completed successfully."
                    },
                    "metadata": {}
                },
                {
                    "output_type": "display_data",
                    "data": {
                        "text/html": "Commands completed successfully."
                    },
                    "metadata": {}
                },
                {
                    "output_type": "display_data",
                    "data": {
                        "text/html": "Total execution time: 00:00:00.020"
                    },
                    "metadata": {}
                }
            ],
            "execution_count": 55
        },
        {
            "cell_type": "code",
            "source": [
                "select * from sys.databases\n",
                "\n",
                "select * from sys.dm_tran_active_snapshot_database_transactions"
            ],
            "metadata": {
                "language": "sql",
                "azdata_cell_guid": "0837a6e7-fffd-4151-ba38-82304a392ed4"
            },
            "outputs": [
                {
                    "output_type": "display_data",
                    "data": {
                        "text/html": "(7 rows affected)"
                    },
                    "metadata": {}
                },
                {
                    "output_type": "display_data",
                    "data": {
                        "text/html": "(0 rows affected)"
                    },
                    "metadata": {}
                },
                {
                    "output_type": "display_data",
                    "data": {
                        "text/html": "Total execution time: 00:00:00.031"
                    },
                    "metadata": {}
                },
                {
                    "output_type": "execute_result",
                    "metadata": {},
                    "execution_count": 29,
                    "data": {
                        "application/vnd.dataresource+json": {
                            "schema": {
                                "fields": [
                                    {
                                        "name": "name"
                                    },
                                    {
                                        "name": "database_id"
                                    },
                                    {
                                        "name": "source_database_id"
                                    },
                                    {
                                        "name": "owner_sid"
                                    },
                                    {
                                        "name": "create_date"
                                    },
                                    {
                                        "name": "compatibility_level"
                                    },
                                    {
                                        "name": "collation_name"
                                    },
                                    {
                                        "name": "user_access"
                                    },
                                    {
                                        "name": "user_access_desc"
                                    },
                                    {
                                        "name": "is_read_only"
                                    },
                                    {
                                        "name": "is_auto_close_on"
                                    },
                                    {
                                        "name": "is_auto_shrink_on"
                                    },
                                    {
                                        "name": "state"
                                    },
                                    {
                                        "name": "state_desc"
                                    },
                                    {
                                        "name": "is_in_standby"
                                    },
                                    {
                                        "name": "is_cleanly_shutdown"
                                    },
                                    {
                                        "name": "is_supplemental_logging_enabled"
                                    },
                                    {
                                        "name": "snapshot_isolation_state"
                                    },
                                    {
                                        "name": "snapshot_isolation_state_desc"
                                    },
                                    {
                                        "name": "is_read_committed_snapshot_on"
                                    },
                                    {
                                        "name": "recovery_model"
                                    },
                                    {
                                        "name": "recovery_model_desc"
                                    },
                                    {
                                        "name": "page_verify_option"
                                    },
                                    {
                                        "name": "page_verify_option_desc"
                                    },
                                    {
                                        "name": "is_auto_create_stats_on"
                                    },
                                    {
                                        "name": "is_auto_create_stats_incremental_on"
                                    },
                                    {
                                        "name": "is_auto_update_stats_on"
                                    },
                                    {
                                        "name": "is_auto_update_stats_async_on"
                                    },
                                    {
                                        "name": "is_ansi_null_default_on"
                                    },
                                    {
                                        "name": "is_ansi_nulls_on"
                                    },
                                    {
                                        "name": "is_ansi_padding_on"
                                    },
                                    {
                                        "name": "is_ansi_warnings_on"
                                    },
                                    {
                                        "name": "is_arithabort_on"
                                    },
                                    {
                                        "name": "is_concat_null_yields_null_on"
                                    },
                                    {
                                        "name": "is_numeric_roundabort_on"
                                    },
                                    {
                                        "name": "is_quoted_identifier_on"
                                    },
                                    {
                                        "name": "is_recursive_triggers_on"
                                    },
                                    {
                                        "name": "is_cursor_close_on_commit_on"
                                    },
                                    {
                                        "name": "is_local_cursor_default"
                                    },
                                    {
                                        "name": "is_fulltext_enabled"
                                    },
                                    {
                                        "name": "is_trustworthy_on"
                                    },
                                    {
                                        "name": "is_db_chaining_on"
                                    },
                                    {
                                        "name": "is_parameterization_forced"
                                    },
                                    {
                                        "name": "is_master_key_encrypted_by_server"
                                    },
                                    {
                                        "name": "is_query_store_on"
                                    },
                                    {
                                        "name": "is_published"
                                    },
                                    {
                                        "name": "is_subscribed"
                                    },
                                    {
                                        "name": "is_merge_published"
                                    },
                                    {
                                        "name": "is_distributor"
                                    },
                                    {
                                        "name": "is_sync_with_backup"
                                    },
                                    {
                                        "name": "service_broker_guid"
                                    },
                                    {
                                        "name": "is_broker_enabled"
                                    },
                                    {
                                        "name": "log_reuse_wait"
                                    },
                                    {
                                        "name": "log_reuse_wait_desc"
                                    },
                                    {
                                        "name": "is_date_correlation_on"
                                    },
                                    {
                                        "name": "is_cdc_enabled"
                                    },
                                    {
                                        "name": "is_encrypted"
                                    },
                                    {
                                        "name": "is_honor_broker_priority_on"
                                    },
                                    {
                                        "name": "replica_id"
                                    },
                                    {
                                        "name": "group_database_id"
                                    },
                                    {
                                        "name": "resource_pool_id"
                                    },
                                    {
                                        "name": "default_language_lcid"
                                    },
                                    {
                                        "name": "default_language_name"
                                    },
                                    {
                                        "name": "default_fulltext_language_lcid"
                                    },
                                    {
                                        "name": "default_fulltext_language_name"
                                    },
                                    {
                                        "name": "is_nested_triggers_on"
                                    },
                                    {
                                        "name": "is_transform_noise_words_on"
                                    },
                                    {
                                        "name": "two_digit_year_cutoff"
                                    },
                                    {
                                        "name": "containment"
                                    },
                                    {
                                        "name": "containment_desc"
                                    },
                                    {
                                        "name": "target_recovery_time_in_seconds"
                                    },
                                    {
                                        "name": "delayed_durability"
                                    },
                                    {
                                        "name": "delayed_durability_desc"
                                    },
                                    {
                                        "name": "is_memory_optimized_elevate_to_snapshot_on"
                                    },
                                    {
                                        "name": "is_federation_member"
                                    },
                                    {
                                        "name": "is_remote_data_archive_enabled"
                                    },
                                    {
                                        "name": "is_mixed_page_allocation_on"
                                    },
                                    {
                                        "name": "is_temporal_history_retention_enabled"
                                    },
                                    {
                                        "name": "catalog_collation_type"
                                    },
                                    {
                                        "name": "catalog_collation_type_desc"
                                    },
                                    {
                                        "name": "physical_database_name"
                                    },
                                    {
                                        "name": "is_result_set_caching_on"
                                    },
                                    {
                                        "name": "is_accelerated_database_recovery_on"
                                    },
                                    {
                                        "name": "is_tempdb_spill_to_remote_store"
                                    },
                                    {
                                        "name": "is_stale_page_detection_on"
                                    },
                                    {
                                        "name": "is_memory_optimized_enabled"
                                    },
                                    {
                                        "name": "is_data_retention_enabled"
                                    },
                                    {
                                        "name": "is_ledger_on"
                                    },
                                    {
                                        "name": "is_change_feed_enabled"
                                    }
                                ]
                            },
                            "data": [
                                {
                                    "name": "master",
                                    "database_id": "1",
                                    "source_database_id": "NULL",
                                    "owner_sid": "0x01",
                                    "create_date": "2003-04-08 09:13:36.390",
                                    "compatibility_level": "160",
                                    "collation_name": "SQL_Latin1_General_CP1_CI_AS",
                                    "user_access": "0",
                                    "user_access_desc": "MULTI_USER",
                                    "is_read_only": "0",
                                    "is_auto_close_on": "0",
                                    "is_auto_shrink_on": "0",
                                    "state": "0",
                                    "state_desc": "ONLINE",
                                    "is_in_standby": "0",
                                    "is_cleanly_shutdown": "0",
                                    "is_supplemental_logging_enabled": "0",
                                    "snapshot_isolation_state": "1",
                                    "snapshot_isolation_state_desc": "ON",
                                    "is_read_committed_snapshot_on": "0",
                                    "recovery_model": "3",
                                    "recovery_model_desc": "SIMPLE",
                                    "page_verify_option": "2",
                                    "page_verify_option_desc": "CHECKSUM",
                                    "is_auto_create_stats_on": "1",
                                    "is_auto_create_stats_incremental_on": "0",
                                    "is_auto_update_stats_on": "1",
                                    "is_auto_update_stats_async_on": "0",
                                    "is_ansi_null_default_on": "0",
                                    "is_ansi_nulls_on": "0",
                                    "is_ansi_padding_on": "0",
                                    "is_ansi_warnings_on": "0",
                                    "is_arithabort_on": "0",
                                    "is_concat_null_yields_null_on": "0",
                                    "is_numeric_roundabort_on": "0",
                                    "is_quoted_identifier_on": "0",
                                    "is_recursive_triggers_on": "0",
                                    "is_cursor_close_on_commit_on": "0",
                                    "is_local_cursor_default": "0",
                                    "is_fulltext_enabled": "0",
                                    "is_trustworthy_on": "0",
                                    "is_db_chaining_on": "1",
                                    "is_parameterization_forced": "0",
                                    "is_master_key_encrypted_by_server": "0",
                                    "is_query_store_on": "0",
                                    "is_published": "0",
                                    "is_subscribed": "0",
                                    "is_merge_published": "0",
                                    "is_distributor": "0",
                                    "is_sync_with_backup": "0",
                                    "service_broker_guid": "00000000-0000-0000-0000-000000000000",
                                    "is_broker_enabled": "0",
                                    "log_reuse_wait": "0",
                                    "log_reuse_wait_desc": "NOTHING",
                                    "is_date_correlation_on": "0",
                                    "is_cdc_enabled": "0",
                                    "is_encrypted": "0",
                                    "is_honor_broker_priority_on": "0",
                                    "replica_id": "NULL",
                                    "group_database_id": "NULL",
                                    "resource_pool_id": "NULL",
                                    "default_language_lcid": "NULL",
                                    "default_language_name": "NULL",
                                    "default_fulltext_language_lcid": "NULL",
                                    "default_fulltext_language_name": "NULL",
                                    "is_nested_triggers_on": "NULL",
                                    "is_transform_noise_words_on": "NULL",
                                    "two_digit_year_cutoff": "NULL",
                                    "containment": "0",
                                    "containment_desc": "NONE",
                                    "target_recovery_time_in_seconds": "0",
                                    "delayed_durability": "0",
                                    "delayed_durability_desc": "DISABLED",
                                    "is_memory_optimized_elevate_to_snapshot_on": "0",
                                    "is_federation_member": "0",
                                    "is_remote_data_archive_enabled": "0",
                                    "is_mixed_page_allocation_on": "1",
                                    "is_temporal_history_retention_enabled": "1",
                                    "catalog_collation_type": "0",
                                    "catalog_collation_type_desc": "DATABASE_DEFAULT",
                                    "physical_database_name": "master",
                                    "is_result_set_caching_on": "0",
                                    "is_accelerated_database_recovery_on": "0",
                                    "is_tempdb_spill_to_remote_store": "0",
                                    "is_stale_page_detection_on": "0",
                                    "is_memory_optimized_enabled": "1",
                                    "is_data_retention_enabled": "0",
                                    "is_ledger_on": "0",
                                    "is_change_feed_enabled": "0"
                                },
                                {
                                    "name": "tempdb",
                                    "database_id": "2",
                                    "source_database_id": "NULL",
                                    "owner_sid": "0x01",
                                    "create_date": "2024-05-24 11:02:25.317",
                                    "compatibility_level": "160",
                                    "collation_name": "SQL_Latin1_General_CP1_CI_AS",
                                    "user_access": "0",
                                    "user_access_desc": "MULTI_USER",
                                    "is_read_only": "0",
                                    "is_auto_close_on": "0",
                                    "is_auto_shrink_on": "0",
                                    "state": "0",
                                    "state_desc": "ONLINE",
                                    "is_in_standby": "0",
                                    "is_cleanly_shutdown": "0",
                                    "is_supplemental_logging_enabled": "0",
                                    "snapshot_isolation_state": "0",
                                    "snapshot_isolation_state_desc": "OFF",
                                    "is_read_committed_snapshot_on": "0",
                                    "recovery_model": "3",
                                    "recovery_model_desc": "SIMPLE",
                                    "page_verify_option": "2",
                                    "page_verify_option_desc": "CHECKSUM",
                                    "is_auto_create_stats_on": "1",
                                    "is_auto_create_stats_incremental_on": "0",
                                    "is_auto_update_stats_on": "1",
                                    "is_auto_update_stats_async_on": "0",
                                    "is_ansi_null_default_on": "0",
                                    "is_ansi_nulls_on": "0",
                                    "is_ansi_padding_on": "0",
                                    "is_ansi_warnings_on": "0",
                                    "is_arithabort_on": "0",
                                    "is_concat_null_yields_null_on": "0",
                                    "is_numeric_roundabort_on": "0",
                                    "is_quoted_identifier_on": "0",
                                    "is_recursive_triggers_on": "0",
                                    "is_cursor_close_on_commit_on": "0",
                                    "is_local_cursor_default": "0",
                                    "is_fulltext_enabled": "0",
                                    "is_trustworthy_on": "0",
                                    "is_db_chaining_on": "1",
                                    "is_parameterization_forced": "0",
                                    "is_master_key_encrypted_by_server": "0",
                                    "is_query_store_on": "0",
                                    "is_published": "0",
                                    "is_subscribed": "0",
                                    "is_merge_published": "0",
                                    "is_distributor": "0",
                                    "is_sync_with_backup": "0",
                                    "service_broker_guid": "0e7fa998-68e7-4c88-8637-96d75972d644",
                                    "is_broker_enabled": "1",
                                    "log_reuse_wait": "0",
                                    "log_reuse_wait_desc": "NOTHING",
                                    "is_date_correlation_on": "0",
                                    "is_cdc_enabled": "0",
                                    "is_encrypted": "0",
                                    "is_honor_broker_priority_on": "0",
                                    "replica_id": "NULL",
                                    "group_database_id": "NULL",
                                    "resource_pool_id": "NULL",
                                    "default_language_lcid": "NULL",
                                    "default_language_name": "NULL",
                                    "default_fulltext_language_lcid": "NULL",
                                    "default_fulltext_language_name": "NULL",
                                    "is_nested_triggers_on": "NULL",
                                    "is_transform_noise_words_on": "NULL",
                                    "two_digit_year_cutoff": "NULL",
                                    "containment": "0",
                                    "containment_desc": "NONE",
                                    "target_recovery_time_in_seconds": "60",
                                    "delayed_durability": "0",
                                    "delayed_durability_desc": "DISABLED",
                                    "is_memory_optimized_elevate_to_snapshot_on": "0",
                                    "is_federation_member": "0",
                                    "is_remote_data_archive_enabled": "0",
                                    "is_mixed_page_allocation_on": "0",
                                    "is_temporal_history_retention_enabled": "1",
                                    "catalog_collation_type": "0",
                                    "catalog_collation_type_desc": "DATABASE_DEFAULT",
                                    "physical_database_name": "tempdb",
                                    "is_result_set_caching_on": "0",
                                    "is_accelerated_database_recovery_on": "0",
                                    "is_tempdb_spill_to_remote_store": "0",
                                    "is_stale_page_detection_on": "0",
                                    "is_memory_optimized_enabled": "1",
                                    "is_data_retention_enabled": "0",
                                    "is_ledger_on": "0",
                                    "is_change_feed_enabled": "0"
                                },
                                {
                                    "name": "model",
                                    "database_id": "3",
                                    "source_database_id": "NULL",
                                    "owner_sid": "0x01",
                                    "create_date": "2003-04-08 09:13:36.390",
                                    "compatibility_level": "160",
                                    "collation_name": "SQL_Latin1_General_CP1_CI_AS",
                                    "user_access": "0",
                                    "user_access_desc": "MULTI_USER",
                                    "is_read_only": "0",
                                    "is_auto_close_on": "0",
                                    "is_auto_shrink_on": "0",
                                    "state": "0",
                                    "state_desc": "ONLINE",
                                    "is_in_standby": "0",
                                    "is_cleanly_shutdown": "0",
                                    "is_supplemental_logging_enabled": "0",
                                    "snapshot_isolation_state": "0",
                                    "snapshot_isolation_state_desc": "OFF",
                                    "is_read_committed_snapshot_on": "0",
                                    "recovery_model": "1",
                                    "recovery_model_desc": "FULL",
                                    "page_verify_option": "2",
                                    "page_verify_option_desc": "CHECKSUM",
                                    "is_auto_create_stats_on": "1",
                                    "is_auto_create_stats_incremental_on": "0",
                                    "is_auto_update_stats_on": "1",
                                    "is_auto_update_stats_async_on": "0",
                                    "is_ansi_null_default_on": "0",
                                    "is_ansi_nulls_on": "0",
                                    "is_ansi_padding_on": "0",
                                    "is_ansi_warnings_on": "0",
                                    "is_arithabort_on": "0",
                                    "is_concat_null_yields_null_on": "0",
                                    "is_numeric_roundabort_on": "0",
                                    "is_quoted_identifier_on": "0",
                                    "is_recursive_triggers_on": "0",
                                    "is_cursor_close_on_commit_on": "0",
                                    "is_local_cursor_default": "0",
                                    "is_fulltext_enabled": "0",
                                    "is_trustworthy_on": "0",
                                    "is_db_chaining_on": "0",
                                    "is_parameterization_forced": "0",
                                    "is_master_key_encrypted_by_server": "0",
                                    "is_query_store_on": "1",
                                    "is_published": "0",
                                    "is_subscribed": "0",
                                    "is_merge_published": "0",
                                    "is_distributor": "0",
                                    "is_sync_with_backup": "0",
                                    "service_broker_guid": "00000000-0000-0000-0000-000000000000",
                                    "is_broker_enabled": "0",
                                    "log_reuse_wait": "0",
                                    "log_reuse_wait_desc": "NOTHING",
                                    "is_date_correlation_on": "0",
                                    "is_cdc_enabled": "0",
                                    "is_encrypted": "0",
                                    "is_honor_broker_priority_on": "0",
                                    "replica_id": "NULL",
                                    "group_database_id": "NULL",
                                    "resource_pool_id": "NULL",
                                    "default_language_lcid": "NULL",
                                    "default_language_name": "NULL",
                                    "default_fulltext_language_lcid": "NULL",
                                    "default_fulltext_language_name": "NULL",
                                    "is_nested_triggers_on": "NULL",
                                    "is_transform_noise_words_on": "NULL",
                                    "two_digit_year_cutoff": "NULL",
                                    "containment": "0",
                                    "containment_desc": "NONE",
                                    "target_recovery_time_in_seconds": "60",
                                    "delayed_durability": "0",
                                    "delayed_durability_desc": "DISABLED",
                                    "is_memory_optimized_elevate_to_snapshot_on": "0",
                                    "is_federation_member": "0",
                                    "is_remote_data_archive_enabled": "0",
                                    "is_mixed_page_allocation_on": "1",
                                    "is_temporal_history_retention_enabled": "1",
                                    "catalog_collation_type": "0",
                                    "catalog_collation_type_desc": "DATABASE_DEFAULT",
                                    "physical_database_name": "model",
                                    "is_result_set_caching_on": "0",
                                    "is_accelerated_database_recovery_on": "0",
                                    "is_tempdb_spill_to_remote_store": "0",
                                    "is_stale_page_detection_on": "0",
                                    "is_memory_optimized_enabled": "1",
                                    "is_data_retention_enabled": "0",
                                    "is_ledger_on": "0",
                                    "is_change_feed_enabled": "0"
                                },
                                {
                                    "name": "msdb",
                                    "database_id": "4",
                                    "source_database_id": "NULL",
                                    "owner_sid": "0x01",
                                    "create_date": "2023-08-23 14:45:17.367",
                                    "compatibility_level": "160",
                                    "collation_name": "SQL_Latin1_General_CP1_CI_AS",
                                    "user_access": "0",
                                    "user_access_desc": "MULTI_USER",
                                    "is_read_only": "0",
                                    "is_auto_close_on": "0",
                                    "is_auto_shrink_on": "0",
                                    "state": "0",
                                    "state_desc": "ONLINE",
                                    "is_in_standby": "0",
                                    "is_cleanly_shutdown": "0",
                                    "is_supplemental_logging_enabled": "0",
                                    "snapshot_isolation_state": "1",
                                    "snapshot_isolation_state_desc": "ON",
                                    "is_read_committed_snapshot_on": "0",
                                    "recovery_model": "3",
                                    "recovery_model_desc": "SIMPLE",
                                    "page_verify_option": "2",
                                    "page_verify_option_desc": "CHECKSUM",
                                    "is_auto_create_stats_on": "1",
                                    "is_auto_create_stats_incremental_on": "0",
                                    "is_auto_update_stats_on": "1",
                                    "is_auto_update_stats_async_on": "0",
                                    "is_ansi_null_default_on": "0",
                                    "is_ansi_nulls_on": "0",
                                    "is_ansi_padding_on": "0",
                                    "is_ansi_warnings_on": "0",
                                    "is_arithabort_on": "0",
                                    "is_concat_null_yields_null_on": "0",
                                    "is_numeric_roundabort_on": "0",
                                    "is_quoted_identifier_on": "0",
                                    "is_recursive_triggers_on": "0",
                                    "is_cursor_close_on_commit_on": "0",
                                    "is_local_cursor_default": "0",
                                    "is_fulltext_enabled": "1",
                                    "is_trustworthy_on": "1",
                                    "is_db_chaining_on": "1",
                                    "is_parameterization_forced": "0",
                                    "is_master_key_encrypted_by_server": "0",
                                    "is_query_store_on": "0",
                                    "is_published": "0",
                                    "is_subscribed": "0",
                                    "is_merge_published": "0",
                                    "is_distributor": "0",
                                    "is_sync_with_backup": "0",
                                    "service_broker_guid": "7e0fb0f0-9e06-4494-84ce-d056caeafa3f",
                                    "is_broker_enabled": "1",
                                    "log_reuse_wait": "0",
                                    "log_reuse_wait_desc": "NOTHING",
                                    "is_date_correlation_on": "0",
                                    "is_cdc_enabled": "0",
                                    "is_encrypted": "0",
                                    "is_honor_broker_priority_on": "0",
                                    "replica_id": "NULL",
                                    "group_database_id": "NULL",
                                    "resource_pool_id": "NULL",
                                    "default_language_lcid": "NULL",
                                    "default_language_name": "NULL",
                                    "default_fulltext_language_lcid": "NULL",
                                    "default_fulltext_language_name": "NULL",
                                    "is_nested_triggers_on": "NULL",
                                    "is_transform_noise_words_on": "NULL",
                                    "two_digit_year_cutoff": "NULL",
                                    "containment": "0",
                                    "containment_desc": "NONE",
                                    "target_recovery_time_in_seconds": "60",
                                    "delayed_durability": "0",
                                    "delayed_durability_desc": "DISABLED",
                                    "is_memory_optimized_elevate_to_snapshot_on": "0",
                                    "is_federation_member": "0",
                                    "is_remote_data_archive_enabled": "0",
                                    "is_mixed_page_allocation_on": "1",
                                    "is_temporal_history_retention_enabled": "1",
                                    "catalog_collation_type": "0",
                                    "catalog_collation_type_desc": "DATABASE_DEFAULT",
                                    "physical_database_name": "msdb",
                                    "is_result_set_caching_on": "0",
                                    "is_accelerated_database_recovery_on": "0",
                                    "is_tempdb_spill_to_remote_store": "0",
                                    "is_stale_page_detection_on": "0",
                                    "is_memory_optimized_enabled": "1",
                                    "is_data_retention_enabled": "0",
                                    "is_ledger_on": "0",
                                    "is_change_feed_enabled": "0"
                                },
                                {
                                    "name": "OnlineFoodDelivery",
                                    "database_id": "5",
                                    "source_database_id": "NULL",
                                    "owner_sid": "0x01",
                                    "create_date": "2023-10-18 16:28:49.427",
                                    "compatibility_level": "160",
                                    "collation_name": "SQL_Latin1_General_CP1_CI_AS",
                                    "user_access": "0",
                                    "user_access_desc": "MULTI_USER",
                                    "is_read_only": "0",
                                    "is_auto_close_on": "1",
                                    "is_auto_shrink_on": "0",
                                    "state": "0",
                                    "state_desc": "ONLINE",
                                    "is_in_standby": "0",
                                    "is_cleanly_shutdown": "0",
                                    "is_supplemental_logging_enabled": "0",
                                    "snapshot_isolation_state": "0",
                                    "snapshot_isolation_state_desc": "OFF",
                                    "is_read_committed_snapshot_on": "0",
                                    "recovery_model": "1",
                                    "recovery_model_desc": "FULL",
                                    "page_verify_option": "2",
                                    "page_verify_option_desc": "CHECKSUM",
                                    "is_auto_create_stats_on": "1",
                                    "is_auto_create_stats_incremental_on": "0",
                                    "is_auto_update_stats_on": "1",
                                    "is_auto_update_stats_async_on": "0",
                                    "is_ansi_null_default_on": "0",
                                    "is_ansi_nulls_on": "0",
                                    "is_ansi_padding_on": "0",
                                    "is_ansi_warnings_on": "0",
                                    "is_arithabort_on": "0",
                                    "is_concat_null_yields_null_on": "0",
                                    "is_numeric_roundabort_on": "0",
                                    "is_quoted_identifier_on": "0",
                                    "is_recursive_triggers_on": "0",
                                    "is_cursor_close_on_commit_on": "0",
                                    "is_local_cursor_default": "0",
                                    "is_fulltext_enabled": "1",
                                    "is_trustworthy_on": "0",
                                    "is_db_chaining_on": "0",
                                    "is_parameterization_forced": "0",
                                    "is_master_key_encrypted_by_server": "0",
                                    "is_query_store_on": "1",
                                    "is_published": "0",
                                    "is_subscribed": "0",
                                    "is_merge_published": "0",
                                    "is_distributor": "0",
                                    "is_sync_with_backup": "0",
                                    "service_broker_guid": "26467532-312d-484c-815f-d4aa04a39b4c",
                                    "is_broker_enabled": "1",
                                    "log_reuse_wait": "0",
                                    "log_reuse_wait_desc": "NOTHING",
                                    "is_date_correlation_on": "0",
                                    "is_cdc_enabled": "0",
                                    "is_encrypted": "0",
                                    "is_honor_broker_priority_on": "0",
                                    "replica_id": "NULL",
                                    "group_database_id": "NULL",
                                    "resource_pool_id": "NULL",
                                    "default_language_lcid": "NULL",
                                    "default_language_name": "NULL",
                                    "default_fulltext_language_lcid": "NULL",
                                    "default_fulltext_language_name": "NULL",
                                    "is_nested_triggers_on": "NULL",
                                    "is_transform_noise_words_on": "NULL",
                                    "two_digit_year_cutoff": "NULL",
                                    "containment": "0",
                                    "containment_desc": "NONE",
                                    "target_recovery_time_in_seconds": "60",
                                    "delayed_durability": "0",
                                    "delayed_durability_desc": "DISABLED",
                                    "is_memory_optimized_elevate_to_snapshot_on": "0",
                                    "is_federation_member": "0",
                                    "is_remote_data_archive_enabled": "0",
                                    "is_mixed_page_allocation_on": "0",
                                    "is_temporal_history_retention_enabled": "1",
                                    "catalog_collation_type": "0",
                                    "catalog_collation_type_desc": "DATABASE_DEFAULT",
                                    "physical_database_name": "OnlineFoodDelivery",
                                    "is_result_set_caching_on": "0",
                                    "is_accelerated_database_recovery_on": "0",
                                    "is_tempdb_spill_to_remote_store": "0",
                                    "is_stale_page_detection_on": "0",
                                    "is_memory_optimized_enabled": "1",
                                    "is_data_retention_enabled": "1",
                                    "is_ledger_on": "0",
                                    "is_change_feed_enabled": "0"
                                },
                                {
                                    "name": "Rugby2023",
                                    "database_id": "6",
                                    "source_database_id": "NULL",
                                    "owner_sid": "0x01",
                                    "create_date": "2024-01-14 17:09:18.173",
                                    "compatibility_level": "160",
                                    "collation_name": "NULL",
                                    "user_access": "0",
                                    "user_access_desc": "MULTI_USER",
                                    "is_read_only": "0",
                                    "is_auto_close_on": "1",
                                    "is_auto_shrink_on": "0",
                                    "state": "0",
                                    "state_desc": "ONLINE",
                                    "is_in_standby": "0",
                                    "is_cleanly_shutdown": "1",
                                    "is_supplemental_logging_enabled": "0",
                                    "snapshot_isolation_state": "0",
                                    "snapshot_isolation_state_desc": "OFF",
                                    "is_read_committed_snapshot_on": "0",
                                    "recovery_model": "1",
                                    "recovery_model_desc": "FULL",
                                    "page_verify_option": "2",
                                    "page_verify_option_desc": "CHECKSUM",
                                    "is_auto_create_stats_on": "1",
                                    "is_auto_create_stats_incremental_on": "0",
                                    "is_auto_update_stats_on": "1",
                                    "is_auto_update_stats_async_on": "0",
                                    "is_ansi_null_default_on": "0",
                                    "is_ansi_nulls_on": "0",
                                    "is_ansi_padding_on": "0",
                                    "is_ansi_warnings_on": "0",
                                    "is_arithabort_on": "0",
                                    "is_concat_null_yields_null_on": "0",
                                    "is_numeric_roundabort_on": "0",
                                    "is_quoted_identifier_on": "0",
                                    "is_recursive_triggers_on": "0",
                                    "is_cursor_close_on_commit_on": "0",
                                    "is_local_cursor_default": "0",
                                    "is_fulltext_enabled": "1",
                                    "is_trustworthy_on": "0",
                                    "is_db_chaining_on": "0",
                                    "is_parameterization_forced": "0",
                                    "is_master_key_encrypted_by_server": "0",
                                    "is_query_store_on": "1",
                                    "is_published": "0",
                                    "is_subscribed": "0",
                                    "is_merge_published": "0",
                                    "is_distributor": "0",
                                    "is_sync_with_backup": "0",
                                    "service_broker_guid": "28edf429-cba0-4346-86a7-c943f688b67a",
                                    "is_broker_enabled": "1",
                                    "log_reuse_wait": "0",
                                    "log_reuse_wait_desc": "NOTHING",
                                    "is_date_correlation_on": "0",
                                    "is_cdc_enabled": "0",
                                    "is_encrypted": "0",
                                    "is_honor_broker_priority_on": "0",
                                    "replica_id": "NULL",
                                    "group_database_id": "NULL",
                                    "resource_pool_id": "NULL",
                                    "default_language_lcid": "NULL",
                                    "default_language_name": "NULL",
                                    "default_fulltext_language_lcid": "NULL",
                                    "default_fulltext_language_name": "NULL",
                                    "is_nested_triggers_on": "NULL",
                                    "is_transform_noise_words_on": "NULL",
                                    "two_digit_year_cutoff": "NULL",
                                    "containment": "0",
                                    "containment_desc": "NONE",
                                    "target_recovery_time_in_seconds": "NULL",
                                    "delayed_durability": "NULL",
                                    "delayed_durability_desc": "NULL",
                                    "is_memory_optimized_elevate_to_snapshot_on": "0",
                                    "is_federation_member": "0",
                                    "is_remote_data_archive_enabled": "0",
                                    "is_mixed_page_allocation_on": "0",
                                    "is_temporal_history_retention_enabled": "0",
                                    "catalog_collation_type": "0",
                                    "catalog_collation_type_desc": "DATABASE_DEFAULT",
                                    "physical_database_name": "NULL",
                                    "is_result_set_caching_on": "0",
                                    "is_accelerated_database_recovery_on": "0",
                                    "is_tempdb_spill_to_remote_store": "0",
                                    "is_stale_page_detection_on": "0",
                                    "is_memory_optimized_enabled": "1",
                                    "is_data_retention_enabled": "1",
                                    "is_ledger_on": "NULL",
                                    "is_change_feed_enabled": "0"
                                },
                                {
                                    "name": "BlaBlaCar",
                                    "database_id": "7",
                                    "source_database_id": "NULL",
                                    "owner_sid": "0x01",
                                    "create_date": "2024-01-15 16:18:09.297",
                                    "compatibility_level": "160",
                                    "collation_name": "NULL",
                                    "user_access": "0",
                                    "user_access_desc": "MULTI_USER",
                                    "is_read_only": "0",
                                    "is_auto_close_on": "1",
                                    "is_auto_shrink_on": "0",
                                    "state": "0",
                                    "state_desc": "ONLINE",
                                    "is_in_standby": "0",
                                    "is_cleanly_shutdown": "1",
                                    "is_supplemental_logging_enabled": "0",
                                    "snapshot_isolation_state": "0",
                                    "snapshot_isolation_state_desc": "OFF",
                                    "is_read_committed_snapshot_on": "0",
                                    "recovery_model": "1",
                                    "recovery_model_desc": "FULL",
                                    "page_verify_option": "2",
                                    "page_verify_option_desc": "CHECKSUM",
                                    "is_auto_create_stats_on": "1",
                                    "is_auto_create_stats_incremental_on": "0",
                                    "is_auto_update_stats_on": "1",
                                    "is_auto_update_stats_async_on": "0",
                                    "is_ansi_null_default_on": "0",
                                    "is_ansi_nulls_on": "0",
                                    "is_ansi_padding_on": "0",
                                    "is_ansi_warnings_on": "0",
                                    "is_arithabort_on": "0",
                                    "is_concat_null_yields_null_on": "0",
                                    "is_numeric_roundabort_on": "0",
                                    "is_quoted_identifier_on": "0",
                                    "is_recursive_triggers_on": "0",
                                    "is_cursor_close_on_commit_on": "0",
                                    "is_local_cursor_default": "0",
                                    "is_fulltext_enabled": "1",
                                    "is_trustworthy_on": "0",
                                    "is_db_chaining_on": "0",
                                    "is_parameterization_forced": "0",
                                    "is_master_key_encrypted_by_server": "0",
                                    "is_query_store_on": "1",
                                    "is_published": "0",
                                    "is_subscribed": "0",
                                    "is_merge_published": "0",
                                    "is_distributor": "0",
                                    "is_sync_with_backup": "0",
                                    "service_broker_guid": "8d29c09c-5af1-4520-967f-b8024ed7a008",
                                    "is_broker_enabled": "1",
                                    "log_reuse_wait": "0",
                                    "log_reuse_wait_desc": "NOTHING",
                                    "is_date_correlation_on": "0",
                                    "is_cdc_enabled": "0",
                                    "is_encrypted": "0",
                                    "is_honor_broker_priority_on": "0",
                                    "replica_id": "NULL",
                                    "group_database_id": "NULL",
                                    "resource_pool_id": "NULL",
                                    "default_language_lcid": "NULL",
                                    "default_language_name": "NULL",
                                    "default_fulltext_language_lcid": "NULL",
                                    "default_fulltext_language_name": "NULL",
                                    "is_nested_triggers_on": "NULL",
                                    "is_transform_noise_words_on": "NULL",
                                    "two_digit_year_cutoff": "NULL",
                                    "containment": "0",
                                    "containment_desc": "NONE",
                                    "target_recovery_time_in_seconds": "NULL",
                                    "delayed_durability": "NULL",
                                    "delayed_durability_desc": "NULL",
                                    "is_memory_optimized_elevate_to_snapshot_on": "0",
                                    "is_federation_member": "0",
                                    "is_remote_data_archive_enabled": "0",
                                    "is_mixed_page_allocation_on": "0",
                                    "is_temporal_history_retention_enabled": "0",
                                    "catalog_collation_type": "0",
                                    "catalog_collation_type_desc": "DATABASE_DEFAULT",
                                    "physical_database_name": "NULL",
                                    "is_result_set_caching_on": "0",
                                    "is_accelerated_database_recovery_on": "0",
                                    "is_tempdb_spill_to_remote_store": "0",
                                    "is_stale_page_detection_on": "0",
                                    "is_memory_optimized_enabled": "1",
                                    "is_data_retention_enabled": "1",
                                    "is_ledger_on": "NULL",
                                    "is_change_feed_enabled": "0"
                                }
                            ]
                        },
                        "text/html": [
                            "<table>",
                            "<tr><th>name</th><th>database_id</th><th>source_database_id</th><th>owner_sid</th><th>create_date</th><th>compatibility_level</th><th>collation_name</th><th>user_access</th><th>user_access_desc</th><th>is_read_only</th><th>is_auto_close_on</th><th>is_auto_shrink_on</th><th>state</th><th>state_desc</th><th>is_in_standby</th><th>is_cleanly_shutdown</th><th>is_supplemental_logging_enabled</th><th>snapshot_isolation_state</th><th>snapshot_isolation_state_desc</th><th>is_read_committed_snapshot_on</th><th>recovery_model</th><th>recovery_model_desc</th><th>page_verify_option</th><th>page_verify_option_desc</th><th>is_auto_create_stats_on</th><th>is_auto_create_stats_incremental_on</th><th>is_auto_update_stats_on</th><th>is_auto_update_stats_async_on</th><th>is_ansi_null_default_on</th><th>is_ansi_nulls_on</th><th>is_ansi_padding_on</th><th>is_ansi_warnings_on</th><th>is_arithabort_on</th><th>is_concat_null_yields_null_on</th><th>is_numeric_roundabort_on</th><th>is_quoted_identifier_on</th><th>is_recursive_triggers_on</th><th>is_cursor_close_on_commit_on</th><th>is_local_cursor_default</th><th>is_fulltext_enabled</th><th>is_trustworthy_on</th><th>is_db_chaining_on</th><th>is_parameterization_forced</th><th>is_master_key_encrypted_by_server</th><th>is_query_store_on</th><th>is_published</th><th>is_subscribed</th><th>is_merge_published</th><th>is_distributor</th><th>is_sync_with_backup</th><th>service_broker_guid</th><th>is_broker_enabled</th><th>log_reuse_wait</th><th>log_reuse_wait_desc</th><th>is_date_correlation_on</th><th>is_cdc_enabled</th><th>is_encrypted</th><th>is_honor_broker_priority_on</th><th>replica_id</th><th>group_database_id</th><th>resource_pool_id</th><th>default_language_lcid</th><th>default_language_name</th><th>default_fulltext_language_lcid</th><th>default_fulltext_language_name</th><th>is_nested_triggers_on</th><th>is_transform_noise_words_on</th><th>two_digit_year_cutoff</th><th>containment</th><th>containment_desc</th><th>target_recovery_time_in_seconds</th><th>delayed_durability</th><th>delayed_durability_desc</th><th>is_memory_optimized_elevate_to_snapshot_on</th><th>is_federation_member</th><th>is_remote_data_archive_enabled</th><th>is_mixed_page_allocation_on</th><th>is_temporal_history_retention_enabled</th><th>catalog_collation_type</th><th>catalog_collation_type_desc</th><th>physical_database_name</th><th>is_result_set_caching_on</th><th>is_accelerated_database_recovery_on</th><th>is_tempdb_spill_to_remote_store</th><th>is_stale_page_detection_on</th><th>is_memory_optimized_enabled</th><th>is_data_retention_enabled</th><th>is_ledger_on</th><th>is_change_feed_enabled</th></tr>",
                            "<tr><td>master</td><td>1</td><td>NULL</td><td>0x01</td><td>2003-04-08 09:13:36.390</td><td>160</td><td>SQL_Latin1_General_CP1_CI_AS</td><td>0</td><td>MULTI_USER</td><td>0</td><td>0</td><td>0</td><td>0</td><td>ONLINE</td><td>0</td><td>0</td><td>0</td><td>1</td><td>ON</td><td>0</td><td>3</td><td>SIMPLE</td><td>2</td><td>CHECKSUM</td><td>1</td><td>0</td><td>1</td><td>0</td><td>0</td><td>0</td><td>0</td><td>0</td><td>0</td><td>0</td><td>0</td><td>0</td><td>0</td><td>0</td><td>0</td><td>0</td><td>0</td><td>1</td><td>0</td><td>0</td><td>0</td><td>0</td><td>0</td><td>0</td><td>0</td><td>0</td><td>00000000-0000-0000-0000-000000000000</td><td>0</td><td>0</td><td>NOTHING</td><td>0</td><td>0</td><td>0</td><td>0</td><td>NULL</td><td>NULL</td><td>NULL</td><td>NULL</td><td>NULL</td><td>NULL</td><td>NULL</td><td>NULL</td><td>NULL</td><td>NULL</td><td>0</td><td>NONE</td><td>0</td><td>0</td><td>DISABLED</td><td>0</td><td>0</td><td>0</td><td>1</td><td>1</td><td>0</td><td>DATABASE_DEFAULT</td><td>master</td><td>0</td><td>0</td><td>0</td><td>0</td><td>1</td><td>0</td><td>0</td><td>0</td></tr>",
                            "<tr><td>tempdb</td><td>2</td><td>NULL</td><td>0x01</td><td>2024-05-24 11:02:25.317</td><td>160</td><td>SQL_Latin1_General_CP1_CI_AS</td><td>0</td><td>MULTI_USER</td><td>0</td><td>0</td><td>0</td><td>0</td><td>ONLINE</td><td>0</td><td>0</td><td>0</td><td>0</td><td>OFF</td><td>0</td><td>3</td><td>SIMPLE</td><td>2</td><td>CHECKSUM</td><td>1</td><td>0</td><td>1</td><td>0</td><td>0</td><td>0</td><td>0</td><td>0</td><td>0</td><td>0</td><td>0</td><td>0</td><td>0</td><td>0</td><td>0</td><td>0</td><td>0</td><td>1</td><td>0</td><td>0</td><td>0</td><td>0</td><td>0</td><td>0</td><td>0</td><td>0</td><td>0e7fa998-68e7-4c88-8637-96d75972d644</td><td>1</td><td>0</td><td>NOTHING</td><td>0</td><td>0</td><td>0</td><td>0</td><td>NULL</td><td>NULL</td><td>NULL</td><td>NULL</td><td>NULL</td><td>NULL</td><td>NULL</td><td>NULL</td><td>NULL</td><td>NULL</td><td>0</td><td>NONE</td><td>60</td><td>0</td><td>DISABLED</td><td>0</td><td>0</td><td>0</td><td>0</td><td>1</td><td>0</td><td>DATABASE_DEFAULT</td><td>tempdb</td><td>0</td><td>0</td><td>0</td><td>0</td><td>1</td><td>0</td><td>0</td><td>0</td></tr>",
                            "<tr><td>model</td><td>3</td><td>NULL</td><td>0x01</td><td>2003-04-08 09:13:36.390</td><td>160</td><td>SQL_Latin1_General_CP1_CI_AS</td><td>0</td><td>MULTI_USER</td><td>0</td><td>0</td><td>0</td><td>0</td><td>ONLINE</td><td>0</td><td>0</td><td>0</td><td>0</td><td>OFF</td><td>0</td><td>1</td><td>FULL</td><td>2</td><td>CHECKSUM</td><td>1</td><td>0</td><td>1</td><td>0</td><td>0</td><td>0</td><td>0</td><td>0</td><td>0</td><td>0</td><td>0</td><td>0</td><td>0</td><td>0</td><td>0</td><td>0</td><td>0</td><td>0</td><td>0</td><td>0</td><td>1</td><td>0</td><td>0</td><td>0</td><td>0</td><td>0</td><td>00000000-0000-0000-0000-000000000000</td><td>0</td><td>0</td><td>NOTHING</td><td>0</td><td>0</td><td>0</td><td>0</td><td>NULL</td><td>NULL</td><td>NULL</td><td>NULL</td><td>NULL</td><td>NULL</td><td>NULL</td><td>NULL</td><td>NULL</td><td>NULL</td><td>0</td><td>NONE</td><td>60</td><td>0</td><td>DISABLED</td><td>0</td><td>0</td><td>0</td><td>1</td><td>1</td><td>0</td><td>DATABASE_DEFAULT</td><td>model</td><td>0</td><td>0</td><td>0</td><td>0</td><td>1</td><td>0</td><td>0</td><td>0</td></tr>",
                            "<tr><td>msdb</td><td>4</td><td>NULL</td><td>0x01</td><td>2023-08-23 14:45:17.367</td><td>160</td><td>SQL_Latin1_General_CP1_CI_AS</td><td>0</td><td>MULTI_USER</td><td>0</td><td>0</td><td>0</td><td>0</td><td>ONLINE</td><td>0</td><td>0</td><td>0</td><td>1</td><td>ON</td><td>0</td><td>3</td><td>SIMPLE</td><td>2</td><td>CHECKSUM</td><td>1</td><td>0</td><td>1</td><td>0</td><td>0</td><td>0</td><td>0</td><td>0</td><td>0</td><td>0</td><td>0</td><td>0</td><td>0</td><td>0</td><td>0</td><td>1</td><td>1</td><td>1</td><td>0</td><td>0</td><td>0</td><td>0</td><td>0</td><td>0</td><td>0</td><td>0</td><td>7e0fb0f0-9e06-4494-84ce-d056caeafa3f</td><td>1</td><td>0</td><td>NOTHING</td><td>0</td><td>0</td><td>0</td><td>0</td><td>NULL</td><td>NULL</td><td>NULL</td><td>NULL</td><td>NULL</td><td>NULL</td><td>NULL</td><td>NULL</td><td>NULL</td><td>NULL</td><td>0</td><td>NONE</td><td>60</td><td>0</td><td>DISABLED</td><td>0</td><td>0</td><td>0</td><td>1</td><td>1</td><td>0</td><td>DATABASE_DEFAULT</td><td>msdb</td><td>0</td><td>0</td><td>0</td><td>0</td><td>1</td><td>0</td><td>0</td><td>0</td></tr>",
                            "<tr><td>OnlineFoodDelivery</td><td>5</td><td>NULL</td><td>0x01</td><td>2023-10-18 16:28:49.427</td><td>160</td><td>SQL_Latin1_General_CP1_CI_AS</td><td>0</td><td>MULTI_USER</td><td>0</td><td>1</td><td>0</td><td>0</td><td>ONLINE</td><td>0</td><td>0</td><td>0</td><td>0</td><td>OFF</td><td>0</td><td>1</td><td>FULL</td><td>2</td><td>CHECKSUM</td><td>1</td><td>0</td><td>1</td><td>0</td><td>0</td><td>0</td><td>0</td><td>0</td><td>0</td><td>0</td><td>0</td><td>0</td><td>0</td><td>0</td><td>0</td><td>1</td><td>0</td><td>0</td><td>0</td><td>0</td><td>1</td><td>0</td><td>0</td><td>0</td><td>0</td><td>0</td><td>26467532-312d-484c-815f-d4aa04a39b4c</td><td>1</td><td>0</td><td>NOTHING</td><td>0</td><td>0</td><td>0</td><td>0</td><td>NULL</td><td>NULL</td><td>NULL</td><td>NULL</td><td>NULL</td><td>NULL</td><td>NULL</td><td>NULL</td><td>NULL</td><td>NULL</td><td>0</td><td>NONE</td><td>60</td><td>0</td><td>DISABLED</td><td>0</td><td>0</td><td>0</td><td>0</td><td>1</td><td>0</td><td>DATABASE_DEFAULT</td><td>OnlineFoodDelivery</td><td>0</td><td>0</td><td>0</td><td>0</td><td>1</td><td>1</td><td>0</td><td>0</td></tr>",
                            "<tr><td>Rugby2023</td><td>6</td><td>NULL</td><td>0x01</td><td>2024-01-14 17:09:18.173</td><td>160</td><td>NULL</td><td>0</td><td>MULTI_USER</td><td>0</td><td>1</td><td>0</td><td>0</td><td>ONLINE</td><td>0</td><td>1</td><td>0</td><td>0</td><td>OFF</td><td>0</td><td>1</td><td>FULL</td><td>2</td><td>CHECKSUM</td><td>1</td><td>0</td><td>1</td><td>0</td><td>0</td><td>0</td><td>0</td><td>0</td><td>0</td><td>0</td><td>0</td><td>0</td><td>0</td><td>0</td><td>0</td><td>1</td><td>0</td><td>0</td><td>0</td><td>0</td><td>1</td><td>0</td><td>0</td><td>0</td><td>0</td><td>0</td><td>28edf429-cba0-4346-86a7-c943f688b67a</td><td>1</td><td>0</td><td>NOTHING</td><td>0</td><td>0</td><td>0</td><td>0</td><td>NULL</td><td>NULL</td><td>NULL</td><td>NULL</td><td>NULL</td><td>NULL</td><td>NULL</td><td>NULL</td><td>NULL</td><td>NULL</td><td>0</td><td>NONE</td><td>NULL</td><td>NULL</td><td>NULL</td><td>0</td><td>0</td><td>0</td><td>0</td><td>0</td><td>0</td><td>DATABASE_DEFAULT</td><td>NULL</td><td>0</td><td>0</td><td>0</td><td>0</td><td>1</td><td>1</td><td>NULL</td><td>0</td></tr>",
                            "<tr><td>BlaBlaCar</td><td>7</td><td>NULL</td><td>0x01</td><td>2024-01-15 16:18:09.297</td><td>160</td><td>NULL</td><td>0</td><td>MULTI_USER</td><td>0</td><td>1</td><td>0</td><td>0</td><td>ONLINE</td><td>0</td><td>1</td><td>0</td><td>0</td><td>OFF</td><td>0</td><td>1</td><td>FULL</td><td>2</td><td>CHECKSUM</td><td>1</td><td>0</td><td>1</td><td>0</td><td>0</td><td>0</td><td>0</td><td>0</td><td>0</td><td>0</td><td>0</td><td>0</td><td>0</td><td>0</td><td>0</td><td>1</td><td>0</td><td>0</td><td>0</td><td>0</td><td>1</td><td>0</td><td>0</td><td>0</td><td>0</td><td>0</td><td>8d29c09c-5af1-4520-967f-b8024ed7a008</td><td>1</td><td>0</td><td>NOTHING</td><td>0</td><td>0</td><td>0</td><td>0</td><td>NULL</td><td>NULL</td><td>NULL</td><td>NULL</td><td>NULL</td><td>NULL</td><td>NULL</td><td>NULL</td><td>NULL</td><td>NULL</td><td>0</td><td>NONE</td><td>NULL</td><td>NULL</td><td>NULL</td><td>0</td><td>0</td><td>0</td><td>0</td><td>0</td><td>0</td><td>DATABASE_DEFAULT</td><td>NULL</td><td>0</td><td>0</td><td>0</td><td>0</td><td>1</td><td>1</td><td>NULL</td><td>0</td></tr>",
                            "</table>"
                        ]
                    }
                },
                {
                    "output_type": "execute_result",
                    "metadata": {},
                    "execution_count": 29,
                    "data": {
                        "application/vnd.dataresource+json": {
                            "schema": {
                                "fields": [
                                    {
                                        "name": "transaction_id"
                                    },
                                    {
                                        "name": "transaction_sequence_num"
                                    },
                                    {
                                        "name": "commit_sequence_num"
                                    },
                                    {
                                        "name": "session_id"
                                    },
                                    {
                                        "name": "is_snapshot"
                                    },
                                    {
                                        "name": "first_snapshot_sequence_num"
                                    },
                                    {
                                        "name": "max_version_chain_traversed"
                                    },
                                    {
                                        "name": "average_version_chain_traversed"
                                    },
                                    {
                                        "name": "elapsed_time_seconds"
                                    }
                                ]
                            },
                            "data": []
                        },
                        "text/html": [
                            "<table>",
                            "<tr><th>transaction_id</th><th>transaction_sequence_num</th><th>commit_sequence_num</th><th>session_id</th><th>is_snapshot</th><th>first_snapshot_sequence_num</th><th>max_version_chain_traversed</th><th>average_version_chain_traversed</th><th>elapsed_time_seconds</th></tr>",
                            "</table>"
                        ]
                    }
                }
            ],
            "execution_count": 29
        }
    ]
}